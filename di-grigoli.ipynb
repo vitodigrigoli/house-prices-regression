{
 "cells": [
  {
   "cell_type": "code",
   "execution_count": 1,
   "metadata": {},
   "outputs": [],
   "source": [
    "# inizializziamo la SparkSession e importiamo le librerie\n",
    "import findspark\n",
    "import seaborn as sns\n",
    "import matplotlib.pyplot as plt\n",
    "\n",
    "\n",
    "location = findspark.find()\n",
    "findspark.init(location)\n",
    "\n",
    "from pyspark.sql import SparkSession\n",
    "from pyspark.sql.functions import *\n",
    "from pyspark.sql.functions import col\n",
    "import pyspark.sql.functions as f\n",
    "\n",
    "from pyspark.ml import Pipeline\n",
    "from pyspark.ml.feature import StringIndexer, VectorAssembler, VectorIndexer\n",
    "\n",
    "\n",
    "\n",
    "spark = SparkSession \\\n",
    "    .builder \\\n",
    "    .appName(\"Houses Price\") \\\n",
    "    .getOrCreate()"
   ]
  },
  {
   "cell_type": "code",
   "execution_count": 2,
   "metadata": {},
   "outputs": [],
   "source": [
    "# Carichiamo il data set\n",
    "trainDF = spark.read.csv('hdfs://localhost:9000/user/vito/input/train.csv', header = 'True', inferSchema='True', nullValue='NA')\n",
    "testDF = spark.read.csv('hdfs://localhost:9000/user/vito/input/test.csv', header = 'True', inferSchema='True', nullValue='NA')"
   ]
  },
  {
   "cell_type": "code",
   "execution_count": 3,
   "metadata": {},
   "outputs": [
    {
     "name": "stdout",
     "output_type": "stream",
     "text": [
      "root\n",
      " |-- Id: integer (nullable = true)\n",
      " |-- MSSubClass: integer (nullable = true)\n",
      " |-- MSZoning: string (nullable = true)\n",
      " |-- LotFrontage: integer (nullable = true)\n",
      " |-- LotArea: integer (nullable = true)\n",
      " |-- Street: string (nullable = true)\n",
      " |-- Alley: string (nullable = true)\n",
      " |-- LotShape: string (nullable = true)\n",
      " |-- LandContour: string (nullable = true)\n",
      " |-- Utilities: string (nullable = true)\n",
      " |-- LotConfig: string (nullable = true)\n",
      " |-- LandSlope: string (nullable = true)\n",
      " |-- Neighborhood: string (nullable = true)\n",
      " |-- Condition1: string (nullable = true)\n",
      " |-- Condition2: string (nullable = true)\n",
      " |-- BldgType: string (nullable = true)\n",
      " |-- HouseStyle: string (nullable = true)\n",
      " |-- OverallQual: integer (nullable = true)\n",
      " |-- OverallCond: integer (nullable = true)\n",
      " |-- YearBuilt: integer (nullable = true)\n",
      " |-- YearRemodAdd: integer (nullable = true)\n",
      " |-- RoofStyle: string (nullable = true)\n",
      " |-- RoofMatl: string (nullable = true)\n",
      " |-- Exterior1st: string (nullable = true)\n",
      " |-- Exterior2nd: string (nullable = true)\n",
      " |-- MasVnrType: string (nullable = true)\n",
      " |-- MasVnrArea: integer (nullable = true)\n",
      " |-- ExterQual: string (nullable = true)\n",
      " |-- ExterCond: string (nullable = true)\n",
      " |-- Foundation: string (nullable = true)\n",
      " |-- BsmtQual: string (nullable = true)\n",
      " |-- BsmtCond: string (nullable = true)\n",
      " |-- BsmtExposure: string (nullable = true)\n",
      " |-- BsmtFinType1: string (nullable = true)\n",
      " |-- BsmtFinSF1: integer (nullable = true)\n",
      " |-- BsmtFinType2: string (nullable = true)\n",
      " |-- BsmtFinSF2: integer (nullable = true)\n",
      " |-- BsmtUnfSF: integer (nullable = true)\n",
      " |-- TotalBsmtSF: integer (nullable = true)\n",
      " |-- Heating: string (nullable = true)\n",
      " |-- HeatingQC: string (nullable = true)\n",
      " |-- CentralAir: string (nullable = true)\n",
      " |-- Electrical: string (nullable = true)\n",
      " |-- 1stFlrSF: integer (nullable = true)\n",
      " |-- 2ndFlrSF: integer (nullable = true)\n",
      " |-- LowQualFinSF: integer (nullable = true)\n",
      " |-- GrLivArea: integer (nullable = true)\n",
      " |-- BsmtFullBath: integer (nullable = true)\n",
      " |-- BsmtHalfBath: integer (nullable = true)\n",
      " |-- FullBath: integer (nullable = true)\n",
      " |-- HalfBath: integer (nullable = true)\n",
      " |-- BedroomAbvGr: integer (nullable = true)\n",
      " |-- KitchenAbvGr: integer (nullable = true)\n",
      " |-- KitchenQual: string (nullable = true)\n",
      " |-- TotRmsAbvGrd: integer (nullable = true)\n",
      " |-- Functional: string (nullable = true)\n",
      " |-- Fireplaces: integer (nullable = true)\n",
      " |-- FireplaceQu: string (nullable = true)\n",
      " |-- GarageType: string (nullable = true)\n",
      " |-- GarageYrBlt: integer (nullable = true)\n",
      " |-- GarageFinish: string (nullable = true)\n",
      " |-- GarageCars: integer (nullable = true)\n",
      " |-- GarageArea: integer (nullable = true)\n",
      " |-- GarageQual: string (nullable = true)\n",
      " |-- GarageCond: string (nullable = true)\n",
      " |-- PavedDrive: string (nullable = true)\n",
      " |-- WoodDeckSF: integer (nullable = true)\n",
      " |-- OpenPorchSF: integer (nullable = true)\n",
      " |-- EnclosedPorch: integer (nullable = true)\n",
      " |-- 3SsnPorch: integer (nullable = true)\n",
      " |-- ScreenPorch: integer (nullable = true)\n",
      " |-- PoolArea: integer (nullable = true)\n",
      " |-- PoolQC: string (nullable = true)\n",
      " |-- Fence: string (nullable = true)\n",
      " |-- MiscFeature: string (nullable = true)\n",
      " |-- MiscVal: integer (nullable = true)\n",
      " |-- MoSold: integer (nullable = true)\n",
      " |-- YrSold: integer (nullable = true)\n",
      " |-- SaleType: string (nullable = true)\n",
      " |-- SaleCondition: string (nullable = true)\n",
      " |-- SalePrice: integer (nullable = true)\n",
      "\n"
     ]
    }
   ],
   "source": [
    "trainDF.printSchema()"
   ]
  },
  {
   "cell_type": "code",
   "execution_count": 4,
   "metadata": {},
   "outputs": [],
   "source": [
    "# creo un UDF per contare il numero di elementi nulli all'interno del dataframe divisi per colonna\n",
    "\n",
    "def null_value_count(df):\n",
    "  null_columns_counts = []\n",
    "  for k in df.columns:\n",
    "    nullRows = df.where(col(k).isNull()).count()\n",
    "    if(nullRows > 0):\n",
    "      temp = k,nullRows\n",
    "      null_columns_counts.append(temp)\n",
    "  return(null_columns_counts)"
   ]
  },
  {
   "cell_type": "code",
   "execution_count": 5,
   "metadata": {},
   "outputs": [
    {
     "name": "stdout",
     "output_type": "stream",
     "text": [
      "+----------------------------+-----+\n",
      "|TRAIN Features with NA value|Count|\n",
      "+----------------------------+-----+\n",
      "|                      PoolQC| 1453|\n",
      "|                 MiscFeature| 1406|\n",
      "|                       Alley| 1369|\n",
      "|                       Fence| 1179|\n",
      "|                 FireplaceQu|  690|\n",
      "|                 LotFrontage|  259|\n",
      "|                  GarageQual|   81|\n",
      "|                 GarageYrBlt|   81|\n",
      "|                  GarageType|   81|\n",
      "|                GarageFinish|   81|\n",
      "|                  GarageCond|   81|\n",
      "|                BsmtExposure|   38|\n",
      "|                BsmtFinType2|   38|\n",
      "|                    BsmtCond|   37|\n",
      "|                    BsmtQual|   37|\n",
      "|                BsmtFinType1|   37|\n",
      "|                  MasVnrType|    8|\n",
      "|                  MasVnrArea|    8|\n",
      "|                  Electrical|    1|\n",
      "+----------------------------+-----+\n",
      "\n"
     ]
    }
   ],
   "source": [
    "nullFeaturesTrainDF = spark.createDataFrame(null_value_count(trainDF), ['TRAIN Features with NA value', 'Count']).sort('Count', ascending=False)\n",
    "nullFeaturesTrainDF.show()"
   ]
  },
  {
   "cell_type": "code",
   "execution_count": 6,
   "metadata": {},
   "outputs": [
    {
     "name": "stdout",
     "output_type": "stream",
     "text": [
      "+----------------------------+-----+------------------+\n",
      "|TRAIN Features with NA value|Count|     Missing Ratio|\n",
      "+----------------------------+-----+------------------+\n",
      "|                      PoolQC| 1453| 99.52054794520548|\n",
      "|                 MiscFeature| 1406| 96.30136986301369|\n",
      "|                       Alley| 1369| 93.76712328767123|\n",
      "|                       Fence| 1179| 80.75342465753424|\n",
      "|                 FireplaceQu|  690| 47.26027397260274|\n",
      "|                 LotFrontage|  259| 17.73972602739726|\n",
      "|                 GarageYrBlt|   81|5.5479452054794525|\n",
      "|                  GarageQual|   81|5.5479452054794525|\n",
      "|                GarageFinish|   81|5.5479452054794525|\n",
      "|                  GarageType|   81|5.5479452054794525|\n",
      "|                  GarageCond|   81|5.5479452054794525|\n",
      "|                BsmtExposure|   38|2.6027397260273974|\n",
      "|                BsmtFinType2|   38|2.6027397260273974|\n",
      "|                BsmtFinType1|   37|2.5342465753424657|\n",
      "|                    BsmtQual|   37|2.5342465753424657|\n",
      "|                    BsmtCond|   37|2.5342465753424657|\n",
      "|                  MasVnrType|    8| 0.547945205479452|\n",
      "|                  MasVnrArea|    8| 0.547945205479452|\n",
      "|                  Electrical|    1|0.0684931506849315|\n",
      "+----------------------------+-----+------------------+\n",
      "\n"
     ]
    }
   ],
   "source": [
    "# calcolo la percentuale di dati mancanti\n",
    "\n",
    "nullFeaturesTrainDF = nullFeaturesTrainDF.withColumn( \"Missing Ratio\",  col(\"Count\") / trainDF.count() * 100)\n",
    "nullFeaturesTrainDF.show()"
   ]
  },
  {
   "cell_type": "code",
   "execution_count": 7,
   "metadata": {},
   "outputs": [
    {
     "data": {
      "text/plain": [
       "Text(0.5, 1.0, 'Percentuale di valori mancanti per ogni feature')"
      ]
     },
     "execution_count": 7,
     "metadata": {},
     "output_type": "execute_result"
    },
    {
     "data": {
      "image/png": "[encoded data removed]",
      "text/plain": [
       "<Figure size 1080x432 with 1 Axes>"
      ]
     },
     "metadata": {
      "needs_background": "light"
     },
     "output_type": "display_data"
    }
   ],
   "source": [
    "# facciamo un grafico per capire meglio\n",
    "df_TrainPD = nullFeaturesTrainDF.toPandas()\n",
    "\n",
    "plt.subplots(figsize=(15, 6))\n",
    "plt.xticks(rotation='90')\n",
    "sns.barplot(x=df_TrainPD['TRAIN Features with NA value'], y=df_TrainPD['Missing Ratio']) \n",
    "plt.xlabel('Features')\n",
    "plt.ylabel('Percentuale di valori mancanti')\n",
    "plt.title('Percentuale di valori mancanti per ogni feature')"
   ]
  },
  {
   "cell_type": "code",
   "execution_count": 8,
   "metadata": {},
   "outputs": [
    {
     "name": "stdout",
     "output_type": "stream",
     "text": [
      "Lista delle features da cancellare:\n",
      "0         PoolQC\n",
      "1    MiscFeature\n",
      "2          Alley\n",
      "3          Fence\n",
      "Name: TRAIN Features with NA value, dtype: object\n"
     ]
    }
   ],
   "source": [
    "# cancelliamo le features che hanno una percentuale di valori nulli sopra 80%\n",
    "dropFeatures = df_TrainPD['TRAIN Features with NA value'][ df_TrainPD['Missing Ratio'] > 80 ] \n",
    "print(f'Lista delle features da cancellare:\\n{dropFeatures}')\n",
    "\n",
    "trainDF = trainDF.drop(*dropFeatures)"
   ]
  },
  {
   "cell_type": "code",
   "execution_count": 9,
   "metadata": {},
   "outputs": [],
   "source": [
    "#cancelliamo le feature droppate anche nel test set\n",
    "train_cols = list(trainDF.columns)\n",
    "train_cols.remove('SalePrice')\n",
    "\n",
    "testDF = testDF[train_cols]"
   ]
  },
  {
   "cell_type": "code",
   "execution_count": 10,
   "metadata": {},
   "outputs": [
    {
     "name": "stdout",
     "output_type": "stream",
     "text": [
      "+---------------------------+-----+\n",
      "|TEST Features with NA value|Count|\n",
      "+---------------------------+-----+\n",
      "|                FireplaceQu|  730|\n",
      "|                LotFrontage|  227|\n",
      "|                 GarageQual|   78|\n",
      "|                 GarageCond|   78|\n",
      "|               GarageFinish|   78|\n",
      "|                GarageYrBlt|   78|\n",
      "|                 GarageType|   76|\n",
      "|                   BsmtCond|   45|\n",
      "|                   BsmtQual|   44|\n",
      "|               BsmtExposure|   44|\n",
      "|               BsmtFinType2|   42|\n",
      "|               BsmtFinType1|   42|\n",
      "|                 MasVnrType|   16|\n",
      "|                 MasVnrArea|   15|\n",
      "|                   MSZoning|    4|\n",
      "|               BsmtHalfBath|    2|\n",
      "|                  Utilities|    2|\n",
      "|               BsmtFullBath|    2|\n",
      "|                 Functional|    2|\n",
      "|                Exterior1st|    1|\n",
      "+---------------------------+-----+\n",
      "only showing top 20 rows\n",
      "\n"
     ]
    }
   ],
   "source": [
    "# controlliamo le feature mancanti anche nel test set\n",
    "nullFeaturesTestDF = spark.createDataFrame(null_value_count(testDF), ['TEST Features with NA value', 'Count']).sort('Count', ascending=False)\n",
    "nullFeaturesTestDF.show()"
   ]
  },
  {
   "cell_type": "code",
   "execution_count": 11,
   "metadata": {},
   "outputs": [
    {
     "name": "stdout",
     "output_type": "stream",
     "text": [
      "FireplaceQu nel train: 690\n",
      "FireplaceQu nel test: 730\n",
      "\n"
     ]
    }
   ],
   "source": [
    "# controlliamo se le righe in cui il fireplaces è 0 e il valore di fireplaceQu è NA coincida (690 per il train e 730 per il test)\n",
    "train_fireplaceQu_count = trainDF.where( ( col('FireplaceQu').isNull() == True) & ( col('Fireplaces') == 0 ) ).count()\n",
    "test_fireplaceQu_count = testDF.where( ( col('FireplaceQu').isNull() == True) & ( col('Fireplaces') == 0 ) ).count()\n",
    "\n",
    "print(f'FireplaceQu nel train: {train_fireplaceQu_count}\\nFireplaceQu nel test: {test_fireplaceQu_count}\\n')"
   ]
  },
  {
   "cell_type": "code",
   "execution_count": 12,
   "metadata": {},
   "outputs": [],
   "source": [
    "# settiamo la feature FireplaceQu = 'None'\n",
    "\n",
    "trainDF = trainDF.withColumn(\"FireplaceQu\", when( ( col('FireplaceQu').isNull() == True) & ( col('Fireplaces') == 0 ), \"None\").otherwise(f.col('FireplaceQu')))\n",
    "testDF = testDF.withColumn(\"FireplaceQu\", when( ( col('FireplaceQu').isNull() == True) & ( col('Fireplaces') == 0 ), \"None\").otherwise(f.col('FireplaceQu')))\n"
   ]
  },
  {
   "cell_type": "code",
   "execution_count": 13,
   "metadata": {},
   "outputs": [
    {
     "name": "stdout",
     "output_type": "stream",
     "text": [
      "+----------------------------+-----+\n",
      "|TRAIN Features with NA value|Count|\n",
      "+----------------------------+-----+\n",
      "|                 LotFrontage|  259|\n",
      "|                  GarageCond|   81|\n",
      "|                 GarageYrBlt|   81|\n",
      "|                GarageFinish|   81|\n",
      "|                  GarageQual|   81|\n",
      "|                  GarageType|   81|\n",
      "|                BsmtExposure|   38|\n",
      "|                BsmtFinType2|   38|\n",
      "|                    BsmtQual|   37|\n",
      "|                    BsmtCond|   37|\n",
      "|                BsmtFinType1|   37|\n",
      "|                  MasVnrArea|    8|\n",
      "|                  MasVnrType|    8|\n",
      "|                  Electrical|    1|\n",
      "+----------------------------+-----+\n",
      "\n",
      "+--------------------------+-----+\n",
      "|TESTFeatures with NA value|Count|\n",
      "+--------------------------+-----+\n",
      "|               LotFrontage|  259|\n",
      "|               GarageYrBlt|   81|\n",
      "|              GarageFinish|   81|\n",
      "|                GarageType|   81|\n",
      "|                GarageQual|   81|\n",
      "|                GarageCond|   81|\n",
      "|              BsmtFinType2|   38|\n",
      "|              BsmtExposure|   38|\n",
      "|              BsmtFinType1|   37|\n",
      "|                  BsmtCond|   37|\n",
      "|                  BsmtQual|   37|\n",
      "|                MasVnrType|    8|\n",
      "|                MasVnrArea|    8|\n",
      "|                Electrical|    1|\n",
      "+--------------------------+-----+\n",
      "\n"
     ]
    }
   ],
   "source": [
    "\n",
    "nullFeaturesTrainDF = spark.createDataFrame(null_value_count(trainDF), ['TRAIN Features with NA value', 'Count']).sort('Count', ascending=False)\n",
    "nullFeaturesTrainDF.show()\n",
    "\n",
    "nullFeaturesTestDF = spark.createDataFrame(null_value_count(trainDF), ['TESTFeatures with NA value', 'Count']).sort('Count', ascending=False)\n",
    "nullFeaturesTestDF.show()"
   ]
  },
  {
   "cell_type": "code",
   "execution_count": 14,
   "metadata": {},
   "outputs": [],
   "source": [
    "# creiamo un unico dataframe per calcolare i valori medi o più frequenti\n",
    "\n",
    "pivotDF = trainDF.drop('SalePrice').union(testDF) # devono avere lo stesso schema, quindi droppiamo la feature SalePrice prima di unirli"
   ]
  },
  {
   "cell_type": "code",
   "execution_count": 15,
   "metadata": {},
   "outputs": [
    {
     "data": {
      "image/png": "[encoded data removed]",
      "text/plain": [
       "<Figure size 1224x432 with 1 Axes>"
      ]
     },
     "metadata": {
      "needs_background": "light"
     },
     "output_type": "display_data"
    },
    {
     "name": "stdout",
     "output_type": "stream",
     "text": [
      "+-------+------------------+\n",
      "|summary|       LotFrontage|\n",
      "+-------+------------------+\n",
      "|  count|              2433|\n",
      "|   mean| 69.30579531442663|\n",
      "| stddev|23.344904706927394|\n",
      "|    min|                21|\n",
      "|    max|               313|\n",
      "+-------+------------------+\n",
      "\n"
     ]
    }
   ],
   "source": [
    "# vediamo la distribuzione dei valori per questa feature\n",
    "\n",
    "LotFrontage_count = pivotDF.toPandas()['LotFrontage'].value_counts()\n",
    "plt.subplots(figsize=(17, 6))\n",
    "plt.xticks(rotation='90')\n",
    "sns.barplot(x=LotFrontage_count.index, y=LotFrontage_count.values)\n",
    "plt.title('Frequency Distribution of LotFrontage')\n",
    "plt.ylabel('Number of Occurrences' )\n",
    "plt.xlabel('LotFrontage', fontsize=2)\n",
    "plt.show()\n",
    "\n",
    "pivotDF.select('LotFrontage').describe().show()"
   ]
  },
  {
   "cell_type": "code",
   "execution_count": 16,
   "metadata": {},
   "outputs": [],
   "source": [
    "# Andiamo a settare i valori nulli con il valore più frequente per questa feature\n",
    "\n",
    "trainDF = trainDF.fillna(LotFrontage_count.index[0], subset=['LotFrontage'])\n",
    "testDF = testDF.fillna(LotFrontage_count.index[0], subset=['LotFrontage'])"
   ]
  },
  {
   "cell_type": "code",
   "execution_count": 17,
   "metadata": {},
   "outputs": [
    {
     "name": "stdout",
     "output_type": "stream",
     "text": [
      "+----------------------------+-----+\n",
      "|TRAIN Features with NA value|Count|\n",
      "+----------------------------+-----+\n",
      "|                  GarageQual|   81|\n",
      "|                  GarageCond|   81|\n",
      "|                  GarageType|   81|\n",
      "|                 GarageYrBlt|   81|\n",
      "|                GarageFinish|   81|\n",
      "|                BsmtFinType2|   38|\n",
      "|                BsmtExposure|   38|\n",
      "|                    BsmtQual|   37|\n",
      "|                    BsmtCond|   37|\n",
      "|                BsmtFinType1|   37|\n",
      "|                  MasVnrArea|    8|\n",
      "|                  MasVnrType|    8|\n",
      "|                  Electrical|    1|\n",
      "+----------------------------+-----+\n",
      "\n",
      "+---------------------------+-----+\n",
      "|TEST Features with NA value|Count|\n",
      "+---------------------------+-----+\n",
      "|                 GarageCond|   78|\n",
      "|                GarageYrBlt|   78|\n",
      "|                 GarageQual|   78|\n",
      "|               GarageFinish|   78|\n",
      "|                 GarageType|   76|\n",
      "|                   BsmtCond|   45|\n",
      "|                   BsmtQual|   44|\n",
      "|               BsmtExposure|   44|\n",
      "|               BsmtFinType2|   42|\n",
      "|               BsmtFinType1|   42|\n",
      "|                 MasVnrType|   16|\n",
      "|                 MasVnrArea|   15|\n",
      "|                   MSZoning|    4|\n",
      "|               BsmtFullBath|    2|\n",
      "|               BsmtHalfBath|    2|\n",
      "|                 Functional|    2|\n",
      "|                  Utilities|    2|\n",
      "|                  BsmtUnfSF|    1|\n",
      "|                   SaleType|    1|\n",
      "|                TotalBsmtSF|    1|\n",
      "+---------------------------+-----+\n",
      "only showing top 20 rows\n",
      "\n"
     ]
    }
   ],
   "source": [
    "nullFeaturesTrainDF = spark.createDataFrame(null_value_count(trainDF), ['TRAIN Features with NA value', 'Count']).sort('Count', ascending=False)\n",
    "nullFeaturesTrainDF.show()\n",
    "\n",
    "nullFeaturesTestDF = spark.createDataFrame(null_value_count(testDF), ['TEST Features with NA value', 'Count']).sort('Count', ascending=False)\n",
    "nullFeaturesTestDF.show()"
   ]
  },
  {
   "cell_type": "code",
   "execution_count": 18,
   "metadata": {},
   "outputs": [],
   "source": [
    "# Se GarageArea e GarageCars sono uguali a 0, il garage non esiste. Riempiamo le righe che rispettano questa condizione settando\n",
    "# alle features con valore None/0\n",
    "trainDF = trainDF\\\n",
    "      .withColumn(\"GarageCond\", when( ( col('GarageArea') == 0 ) & ( col('GarageCars')== 0 ), \"None\").otherwise(f.col('GarageCond')))\\\n",
    "\t\t  .withColumn(\"GarageQual\", when( ( col('GarageArea') == 0 ) & ( col('GarageCars')== 0 ), \"None\").otherwise(f.col('GarageQual')))\\\n",
    "\t\t\t  \t.withColumn(\"GarageFinish\", when( ( col('GarageArea') == 0 ) & ( col('GarageCars')== 0 ), \"None\").otherwise(f.col('GarageFinish')))\\\n",
    "\t\t\t\t\t.withColumn(\"GarageType\", when( ( col('GarageArea') == 0 ) & ( col('GarageCars')== 0 ), \"None\").otherwise(f.col('GarageType')))\\\n",
    "\t\t\t\t\t\t.withColumn(\"GarageYrBlt\", when( ( col('GarageArea') == 0 ) & ( col('GarageCars')== 0 ), 0).otherwise(f.col('GarageYrBlt')))\n",
    "\n",
    "testDF = testDF\\\n",
    "      .withColumn(\"GarageCond\", when( ( col('GarageArea') == 0 ) & ( col('GarageCars')== 0 ), \"None\").otherwise(f.col('GarageCond')))\\\n",
    "\t\t  .withColumn(\"GarageQual\", when( ( col('GarageArea') == 0 ) & ( col('GarageCars')== 0 ), \"None\").otherwise(f.col('GarageQual')))\\\n",
    "\t\t\t  \t.withColumn(\"GarageFinish\", when( ( col('GarageArea') == 0 ) & ( col('GarageCars')== 0 ), \"None\").otherwise(f.col('GarageFinish')))\\\n",
    "\t\t\t\t\t.withColumn(\"GarageType\", when( ( col('GarageArea') == 0 ) & ( col('GarageCars')== 0 ), \"None\").otherwise(f.col('GarageType')))\\\n",
    "\t\t\t\t\t\t.withColumn(\"GarageYrBlt\", when( ( col('GarageArea') == 0 ) & ( col('GarageCars')== 0 ), 0).otherwise(f.col('GarageYrBlt')))"
   ]
  },
  {
   "cell_type": "code",
   "execution_count": 19,
   "metadata": {},
   "outputs": [
    {
     "name": "stdout",
     "output_type": "stream",
     "text": [
      "+-----------+----------+------------+----------+----------+----------+----------+\n",
      "|GarageYrBlt|GarageType|GarageFinish|GarageQual|GarageCond|GarageArea|GarageCars|\n",
      "+-----------+----------+------------+----------+----------+----------+----------+\n",
      "|       null|    Detchd|        null|      null|      null|       360|         1|\n",
      "|       null|    Detchd|        null|      null|      null|      null|      null|\n",
      "+-----------+----------+------------+----------+----------+----------+----------+\n",
      "\n"
     ]
    }
   ],
   "source": [
    "# nel test set notiamo una conflitto tra il numero di valori mancanti in GarageType con le altre feature riferite sempre al Garage\n",
    "\n",
    "garage_features = ['GarageYrBlt', 'GarageType', 'GarageFinish', 'GarageQual', 'GarageCond', 'GarageArea', 'GarageCars']\n",
    "testDF.where( ( col('GarageType').isNull() == False ) & (col('GarageFinish').isNull() == True )).select(garage_features).show()"
   ]
  },
  {
   "cell_type": "code",
   "execution_count": 20,
   "metadata": {},
   "outputs": [
    {
     "data": {
      "image/png": "[encoded data removed]",
      "text/plain": [
       "<Figure size 1224x432 with 1 Axes>"
      ]
     },
     "metadata": {
      "needs_background": "light"
     },
     "output_type": "display_data"
    },
    {
     "data": {
      "image/png": "[encoded data removed]",
      "text/plain": [
       "<Figure size 1224x432 with 1 Axes>"
      ]
     },
     "metadata": {
      "needs_background": "light"
     },
     "output_type": "display_data"
    },
    {
     "data": {
      "image/png": "[encoded data removed]",
      "text/plain": [
       "<Figure size 1224x432 with 1 Axes>"
      ]
     },
     "metadata": {
      "needs_background": "light"
     },
     "output_type": "display_data"
    },
    {
     "data": {
      "image/png": "[encoded data removed]",
      "text/plain": [
       "<Figure size 1224x432 with 1 Axes>"
      ]
     },
     "metadata": {
      "needs_background": "light"
     },
     "output_type": "display_data"
    },
    {
     "data": {
      "image/png": "[encoded data removed]",
      "text/plain": [
       "<Figure size 1224x432 with 1 Axes>"
      ]
     },
     "metadata": {
      "needs_background": "light"
     },
     "output_type": "display_data"
    }
   ],
   "source": [
    "pivotPD = pivotDF.toPandas() # lo convertiamo per fare i grafici\n",
    "\n",
    "# vediamo il valore più frequente di GarageCond\n",
    "GarageCond_count = pivotPD['GarageCond'].value_counts()\n",
    "\n",
    "plt.subplots(figsize=(17, 6))\n",
    "sns.barplot(x=GarageCond_count.index, y=GarageCond_count.values, alpha=0.9)\n",
    "plt.title('Frequency Distribution of GarageCond_count', fontsize=10)\n",
    "plt.ylabel('Number of Occurrences', fontsize=10 )\n",
    "plt.xlabel('GarageCond_count', fontsize=10)\n",
    "plt.figure(1)\n",
    "\n",
    "# vediamo il valore più frequente di GarageQual\n",
    "GarageQual_count = pivotPD['GarageQual'].value_counts()\n",
    "\n",
    "plt.subplots(figsize=(17, 6))\n",
    "sns.barplot(x=GarageQual_count.index, y=GarageQual_count.values, alpha=0.9)\n",
    "plt.title('Frequency Distribution of GarageQual', fontsize=10)\n",
    "plt.ylabel('Number of Occurrences', fontsize=10 )\n",
    "plt.xlabel('GarageQual_count', fontsize=10)\n",
    "plt.figure(2)\n",
    "\n",
    "\n",
    "# vediamo il valore più frequente di GarageFinish\n",
    "GarageFinish_count = pivotPD['GarageFinish'].value_counts()\n",
    "\n",
    "plt.subplots(figsize=(17, 6))\n",
    "sns.barplot(x=GarageFinish_count.index, y=GarageFinish_count.values, alpha=0.9)\n",
    "plt.title('Frequency Distribution of GarageFinish', fontsize=10)\n",
    "plt.ylabel('Number of Occurrences', fontsize=10 )\n",
    "plt.xlabel('GarageFinish_count', fontsize=10)\n",
    "plt.figure(3)\n",
    "\n",
    "\n",
    "# vediamo il valore più frequente di GarageYrBlt selezionando il GarageType come quella della nostra riga\n",
    "GarageType_count = pivotPD['GarageType'].value_counts()\n",
    "\n",
    "plt.subplots(figsize=(17, 6))\n",
    "sns.barplot(x=GarageType_count.index, y=GarageType_count.values, alpha=0.9)\n",
    "plt.title('Frequency Distribution of GarageType', fontsize=10)\n",
    "plt.ylabel('Number of Occurrences', fontsize=10 )\n",
    "plt.xlabel('GarageType_count', fontsize=10)\n",
    "plt.figure(4)\n",
    "\n",
    "\n",
    "# vediamo il valore più frequente di GarageYrBlt selezionando il GarageType come quella della nostra riga\n",
    "GarageYrBlt_count = pivotPD['GarageYrBlt'].value_counts()\n",
    "\n",
    "plt.subplots(figsize=(17, 6))\n",
    "sns.barplot(x=GarageYrBlt_count.index, y=GarageYrBlt_count.values, alpha=0.9)\n",
    "plt.title('Frequency Distribution of GarageYrBlt', fontsize=10)\n",
    "plt.ylabel('Number of Occurrences', fontsize=10 )\n",
    "plt.xlabel('GarageYrBlt_count', fontsize=10)\n",
    "plt.xticks(rotation='90')\n",
    "plt.figure(5)\n",
    "\n",
    "plt.show()"
   ]
  },
  {
   "cell_type": "code",
   "execution_count": 21,
   "metadata": {},
   "outputs": [
    {
     "name": "stdout",
     "output_type": "stream",
     "text": [
      "+-------+------------------+----------+------------+----------+----------+------------------+------------------+\n",
      "|summary|       GarageYrBlt|GarageType|GarageFinish|GarageQual|GarageCond|        GarageArea|        GarageCars|\n",
      "+-------+------------------+----------+------------+----------+----------+------------------+------------------+\n",
      "|  count|              2760|      2762|        2760|      2760|      2760|              2918|              2918|\n",
      "|   mean|1978.1134057971014|      null|        null|      null|      null| 472.8745716244003|1.7666209732693625|\n",
      "| stddev|25.574284723905112|      null|        null|      null|      null|215.39481499352166|0.7616243225993496|\n",
      "|    min|              1895|    2Types|         Fin|        Ex|        Ex|                 0|                 0|\n",
      "|    max|              2207|    Detchd|         Unf|        TA|        TA|              1488|                 5|\n",
      "+-------+------------------+----------+------------+----------+----------+------------------+------------------+\n",
      "\n"
     ]
    }
   ],
   "source": [
    "# calcoliamo le statistiche\n",
    "pivotDF.select(garage_features).describe().show()"
   ]
  },
  {
   "cell_type": "code",
   "execution_count": 22,
   "metadata": {},
   "outputs": [
    {
     "name": "stdout",
     "output_type": "stream",
     "text": [
      "Avg GarageArea: 472.8745716244003\n",
      "Avg GarageCars: 1.7666209732693625\n",
      "Avg GarageYrBlt: 1978.1134057971014\n"
     ]
    }
   ],
   "source": [
    "avgGarageArea = pivotDF.select(avg(pivotDF.GarageArea)).collect()[0][0]\n",
    "avgGarageCars = pivotDF.select(avg(pivotDF.GarageCars)).collect()[0][0]\n",
    "avgGarageYrBlt = pivotDF.select(avg(pivotDF.GarageYrBlt)).collect()[0][0]\n",
    "\n",
    "print(f'Avg GarageArea: {avgGarageArea}\\nAvg GarageCars: {avgGarageCars}\\nAvg GarageYrBlt: {avgGarageYrBlt}')"
   ]
  },
  {
   "cell_type": "code",
   "execution_count": 23,
   "metadata": {},
   "outputs": [],
   "source": [
    "# riempiamo le feature mancanti con i valori medi e frequenti calcolati precedentemente\n",
    "\n",
    "testDF = testDF\\\n",
    "\t.fillna(avgGarageYrBlt, subset='GarageYrBlt')\\\n",
    "\t\t.fillna(GarageFinish_count.index[0], subset='GarageFinish')\\\n",
    "\t\t\t.fillna(GarageQual_count.index[0], subset='GarageQual')\\\n",
    "\t\t\t\t.fillna(GarageCond_count.index[0], subset='GarageCond')\\\n",
    "\t\t\t\t\t.fillna(GarageType_count.index[0], subset='GarageType')\\\n",
    "\t\t\t\t\t\t.fillna(avgGarageArea, subset='GarageArea')\\\n",
    "\t\t\t\t\t\t\t.fillna(avgGarageCars, subset='GarageCars')"
   ]
  },
  {
   "cell_type": "code",
   "execution_count": 24,
   "metadata": {},
   "outputs": [
    {
     "name": "stdout",
     "output_type": "stream",
     "text": [
      "+----------------------------+-----+\n",
      "|TRAIN Features with NA value|Count|\n",
      "+----------------------------+-----+\n",
      "|                BsmtFinType2|   38|\n",
      "|                BsmtExposure|   38|\n",
      "|                    BsmtQual|   37|\n",
      "|                    BsmtCond|   37|\n",
      "|                BsmtFinType1|   37|\n",
      "|                  MasVnrArea|    8|\n",
      "|                  MasVnrType|    8|\n",
      "|                  Electrical|    1|\n",
      "+----------------------------+-----+\n",
      "\n",
      "+---------------------------+-----+\n",
      "|TEST Features with NA value|Count|\n",
      "+---------------------------+-----+\n",
      "|                   BsmtCond|   45|\n",
      "|                   BsmtQual|   44|\n",
      "|               BsmtExposure|   44|\n",
      "|               BsmtFinType2|   42|\n",
      "|               BsmtFinType1|   42|\n",
      "|                 MasVnrType|   16|\n",
      "|                 MasVnrArea|   15|\n",
      "|                   MSZoning|    4|\n",
      "|                 Functional|    2|\n",
      "|                  Utilities|    2|\n",
      "|               BsmtHalfBath|    2|\n",
      "|               BsmtFullBath|    2|\n",
      "|                Exterior1st|    1|\n",
      "|                Exterior2nd|    1|\n",
      "|                KitchenQual|    1|\n",
      "|                   SaleType|    1|\n",
      "|                TotalBsmtSF|    1|\n",
      "|                 BsmtFinSF1|    1|\n",
      "|                  BsmtUnfSF|    1|\n",
      "|                 BsmtFinSF2|    1|\n",
      "+---------------------------+-----+\n",
      "\n"
     ]
    }
   ],
   "source": [
    "nullFeaturesTrainDF = spark.createDataFrame(null_value_count(trainDF), ['TRAIN Features with NA value', 'Count']).sort('Count', ascending=False)\n",
    "nullFeaturesTrainDF.show()\n",
    "\n",
    "nullFeaturesTestDF = spark.createDataFrame(null_value_count(testDF), ['TEST Features with NA value', 'Count']).sort('Count', ascending=False)\n",
    "nullFeaturesTestDF.show()"
   ]
  },
  {
   "cell_type": "code",
   "execution_count": 25,
   "metadata": {},
   "outputs": [
    {
     "name": "stdout",
     "output_type": "stream",
     "text": [
      "+--------+--------+------------+------------+------------+-----------+------------+----------+------------+----------+---------+\n",
      "|BsmtQual|BsmtCond|BsmtExposure|BsmtFinType2|BsmtFinType1|TotalBsmtSF|BsmtFinType1|BsmtFinSF1|BsmtFinType2|BsmtFinSF2|BsmtUnfSF|\n",
      "+--------+--------+------------+------------+------------+-----------+------------+----------+------------+----------+---------+\n",
      "|    null|    null|        null|        null|        null|       null|        null|      null|        null|      null|     null|\n",
      "+--------+--------+------------+------------+------------+-----------+------------+----------+------------+----------+---------+\n",
      "\n"
     ]
    }
   ],
   "source": [
    "bsmt_features = ['BsmtQual','BsmtCond', 'BsmtExposure', 'BsmtFinType2', 'BsmtFinType1', 'TotalBsmtSF', 'BsmtFinType1', 'BsmtFinSF1', 'BsmtFinType2', 'BsmtFinSF2', 'BsmtUnfSF']\n",
    "testDF.select(bsmt_features).where(col('BsmtFinSF1').isNull() == True).show()"
   ]
  },
  {
   "cell_type": "code",
   "execution_count": 26,
   "metadata": {},
   "outputs": [],
   "source": [
    "# se TotalBsmtSF è 0 vuol dire che non c'è nessun seminterrato, quindi setteremo le features nulle correlate a None/0\n",
    "\n",
    "trainDF = trainDF\\\n",
    "      .withColumn(\"BsmtQual\", when( ( col('TotalBsmtSF') == 0 ) , \"None\").otherwise(f.col('BsmtQual')))\\\n",
    "\t\t    .withColumn(\"BsmtCond\", when( ( col('TotalBsmtSF') == 0 ) , \"None\").otherwise(f.col('BsmtCond')))\\\n",
    "\t\t\t    .withColumn(\"BsmtExposure\", when( ( col('TotalBsmtSF') == 0 ), \"None\").otherwise(f.col('BsmtExposure')))\\\n",
    "\t\t\t\t    .withColumn(\"BsmtFinType2\", when( ( col('TotalBsmtSF') == 0 ), 0).otherwise(f.col('BsmtFinType2')))\\\n",
    "\t\t\t\t\t    .withColumn(\"BsmtFinType1\", when( ( col('TotalBsmtSF') == 0 ), 0).otherwise(f.col('BsmtFinType1')))\n",
    "\n",
    "\n",
    "testDF = testDF\\\n",
    "      .withColumn(\"BsmtQual\", when( ( col('TotalBsmtSF') == 0 ), \"None\").otherwise(f.col('BsmtQual')))\\\n",
    "\t\t  .withColumn(\"BsmtCond\", when( ( col('TotalBsmtSF') == 0 ), \"None\").otherwise(f.col('BsmtCond')))\\\n",
    "\t\t\t  .withColumn(\"BsmtExposure\", when( ( col('TotalBsmtSF') == 0 ), \"None\").otherwise(f.col('BsmtExposure')))\\\n",
    "\t\t\t\t  .withColumn(\"BsmtFinType2\", when( ( col('TotalBsmtSF') == 0 ), 0).otherwise(f.col('BsmtFinType2')))\\\n",
    "\t\t\t\t\t  .withColumn(\"BsmtFinType1\", when( ( col('TotalBsmtSF') == 0 ), 0).otherwise(f.col('BsmtFinType1')))\\\n",
    "\t\t\t\t\t  \t\t.withColumn(\"BsmtUnfSF\", when( ( col('TotalBsmtSF') == 0 ), 0).otherwise(f.col('BsmtUnfSF')))\\\n",
    "\t\t\t\t\t\t\t\t.withColumn(\"BsmtFinSF2\", when( ( col('TotalBsmtSF') == 0 ), 0).otherwise(f.col('BsmtFinSF2')))\\\n",
    "\t\t\t\t\t\t\t\t\t.withColumn(\"BsmtHalfBath\", when( ( col('TotalBsmtSF') == 0 ), 0).otherwise(f.col('BsmtHalfBath')))\\\n",
    "\t\t\t\t\t\t\t\t\t\t.withColumn(\"BsmtFullBath\", when( ( col('TotalBsmtSF') == 0 ), 0).otherwise(f.col('BsmtFullBath')))"
   ]
  },
  {
   "cell_type": "code",
   "execution_count": 27,
   "metadata": {},
   "outputs": [
    {
     "name": "stdout",
     "output_type": "stream",
     "text": [
      "+----------------------------+-----+\n",
      "|TRAIN Features with NA value|Count|\n",
      "+----------------------------+-----+\n",
      "|                  MasVnrArea|    8|\n",
      "|                  MasVnrType|    8|\n",
      "|                BsmtExposure|    1|\n",
      "|                  Electrical|    1|\n",
      "|                BsmtFinType2|    1|\n",
      "+----------------------------+-----+\n",
      "\n",
      "+---------------------------+-----+\n",
      "|TEST Features with NA value|Count|\n",
      "+---------------------------+-----+\n",
      "|                 MasVnrType|   16|\n",
      "|                 MasVnrArea|   15|\n",
      "|                   BsmtCond|    4|\n",
      "|                   MSZoning|    4|\n",
      "|               BsmtExposure|    3|\n",
      "|                   BsmtQual|    3|\n",
      "|                  Utilities|    2|\n",
      "|                 Functional|    2|\n",
      "|               BsmtHalfBath|    1|\n",
      "|                   SaleType|    1|\n",
      "|                KitchenQual|    1|\n",
      "|                  BsmtUnfSF|    1|\n",
      "|                TotalBsmtSF|    1|\n",
      "|               BsmtFullBath|    1|\n",
      "|                 BsmtFinSF2|    1|\n",
      "|                 BsmtFinSF1|    1|\n",
      "|               BsmtFinType1|    1|\n",
      "|                Exterior2nd|    1|\n",
      "|               BsmtFinType2|    1|\n",
      "|                Exterior1st|    1|\n",
      "+---------------------------+-----+\n",
      "\n"
     ]
    }
   ],
   "source": [
    "nullFeaturesTrainDF = spark.createDataFrame(null_value_count(trainDF), ['TRAIN Features with NA value', 'Count']).sort('Count', ascending=False)\n",
    "nullFeaturesTrainDF.show()\n",
    "\n",
    "nullFeaturesTestDF = spark.createDataFrame(null_value_count(testDF), ['TEST Features with NA value', 'Count']).sort('Count', ascending=False)\n",
    "nullFeaturesTestDF.show()"
   ]
  },
  {
   "cell_type": "code",
   "execution_count": 28,
   "metadata": {},
   "outputs": [
    {
     "data": {
      "image/png": "[encoded data removed]",
      "text/plain": [
       "<Figure size 1224x432 with 1 Axes>"
      ]
     },
     "metadata": {
      "needs_background": "light"
     },
     "output_type": "display_data"
    },
    {
     "data": {
      "image/png": "[encoded data removed]",
      "text/plain": [
       "<Figure size 1224x432 with 1 Axes>"
      ]
     },
     "metadata": {
      "needs_background": "light"
     },
     "output_type": "display_data"
    },
    {
     "data": {
      "image/png": "[encoded data removed]",
      "text/plain": [
       "<Figure size 1224x432 with 1 Axes>"
      ]
     },
     "metadata": {
      "needs_background": "light"
     },
     "output_type": "display_data"
    },
    {
     "data": {
      "image/png": "[encoded data removed]",
      "text/plain": [
       "<Figure size 1224x432 with 1 Axes>"
      ]
     },
     "metadata": {
      "needs_background": "light"
     },
     "output_type": "display_data"
    },
    {
     "data": {
      "image/png": "[encoded data removed]",
      "text/plain": [
       "<Figure size 1224x432 with 1 Axes>"
      ]
     },
     "metadata": {
      "needs_background": "light"
     },
     "output_type": "display_data"
    }
   ],
   "source": [
    "#andremo a riempire le feature mancanti con i valori più frequenti o medi.\n",
    "\n",
    "# vediamo il valore più frequente di BsmtExposure\n",
    "BsmtExposure_count = pivotPD['BsmtExposure'].value_counts()\n",
    "\n",
    "plt.subplots(figsize=(17, 6))\n",
    "sns.barplot(x=BsmtExposure_count.index, y=BsmtExposure_count.values, alpha=0.9)\n",
    "plt.title('Frequency Distribution of BsmtExposure_count', fontsize=15)\n",
    "plt.ylabel('Number of Occurrences', fontsize=15)\n",
    "plt.xlabel('BsmtExposure_count', fontsize=15)\n",
    "plt.xticks(fontsize=15)\n",
    "plt.yticks(fontsize=15)\n",
    "plt.figure(1)\n",
    "\n",
    "# vediamo il valore più frequente di BsmtQual\n",
    "BsmtQual_count = pivotPD['BsmtQual'].value_counts()\n",
    "\n",
    "plt.subplots(figsize=(17, 6))\n",
    "sns.barplot(x=BsmtQual_count.index, y=BsmtQual_count.values, alpha=0.9)\n",
    "plt.title('Frequency Distribution of BsmtQual', fontsize=15)\n",
    "plt.ylabel('Number of Occurrences', fontsize=15 )\n",
    "plt.xlabel('BsmtQual_count', fontsize=15)\n",
    "plt.xticks(fontsize=15)\n",
    "plt.yticks(fontsize=15)\n",
    "plt.figure(2)\n",
    "\n",
    "\n",
    "# vediamo il valore più frequente di BsmtFinType1\n",
    "BsmtFinType1_count = pivotPD['BsmtFinType1'].value_counts()\n",
    "\n",
    "plt.subplots(figsize=(17, 6))\n",
    "sns.barplot(x=BsmtFinType1_count.index, y=BsmtFinType1_count.values, alpha=0.9)\n",
    "plt.title('Frequency Distribution of BsmtFinType1', fontsize=15)\n",
    "plt.ylabel('Number of Occurrences', fontsize=15 )\n",
    "plt.xlabel('BsmtFinType1_count', fontsize=15)\n",
    "plt.xticks(fontsize=15)\n",
    "plt.yticks(fontsize=15)\n",
    "plt.figure(3)\n",
    "\n",
    "\n",
    "# vediamo il valore più frequente di BsmtFinType2\n",
    "BsmtFinType2_count = pivotPD['BsmtFinType2'].value_counts()\n",
    "\n",
    "plt.subplots(figsize=(17, 6))\n",
    "sns.barplot(x=BsmtFinType2_count.index, y=BsmtFinType2_count.values, alpha=0.9)\n",
    "plt.title('Frequency Distribution of BsmtFinType2', fontsize=15)\n",
    "plt.ylabel('Number of Occurrences', fontsize=15 )\n",
    "plt.xlabel('BsmtFinType2_count', fontsize=15)\n",
    "plt.xticks(fontsize=15)\n",
    "plt.yticks(fontsize=15)\n",
    "plt.figure(4)\n",
    "\n",
    "# vediamo il valore più frequente di BsmtFinType2\n",
    "BsmtCond_count = pivotPD['BsmtCond'].value_counts()\n",
    "\n",
    "plt.subplots(figsize=(17, 6))\n",
    "sns.barplot(x=BsmtCond_count.index, y=BsmtCond_count.values, alpha=0.9)\n",
    "plt.title('Frequency Distribution of BsmtCond', fontsize=15)\n",
    "plt.ylabel('Number of Occurrences', fontsize=15 )\n",
    "plt.xlabel('BsmtCond_count', fontsize=15)\n",
    "plt.xticks(fontsize=15)\n",
    "plt.yticks(fontsize=15)\n",
    "plt.figure(4)\n",
    "plt.show()\n",
    "\n"
   ]
  },
  {
   "cell_type": "code",
   "execution_count": 29,
   "metadata": {},
   "outputs": [
    {
     "name": "stdout",
     "output_type": "stream",
     "text": [
      "+-------+--------+--------+------------+------------+------------+------------------+------------+------------------+------------+-----------------+-----------------+\n",
      "|summary|BsmtQual|BsmtCond|BsmtExposure|BsmtFinType2|BsmtFinType1|       TotalBsmtSF|BsmtFinType1|        BsmtFinSF1|BsmtFinType2|       BsmtFinSF2|        BsmtUnfSF|\n",
      "+-------+--------+--------+------------+------------+------------+------------------+------------+------------------+------------+-----------------+-----------------+\n",
      "|  count|    2838|    2837|        2837|        2839|        2840|              2918|        2840|              2918|        2839|             2918|             2918|\n",
      "|   mean|    null|    null|        null|        null|        null|1051.7775873886224|        null| 441.4232350925291|        null|49.58224811514736|560.7721041809458|\n",
      "| stddev|    null|    null|        null|        null|        null| 440.7662581159385|        null|455.61082587029176|        null|169.2056110999798|439.5436594234397|\n",
      "|    min|      Ex|      Fa|          Av|         ALQ|         ALQ|                 0|         ALQ|                 0|         ALQ|                0|                0|\n",
      "|    max|      TA|      TA|          No|         Unf|         Unf|              6110|         Unf|              5644|         Unf|             1526|             2336|\n",
      "+-------+--------+--------+------------+------------+------------+------------------+------------+------------------+------------+-----------------+-----------------+\n",
      "\n"
     ]
    }
   ],
   "source": [
    "#calcoliamo le statistiche\n",
    "pivotDF.select(bsmt_features).describe().show()"
   ]
  },
  {
   "cell_type": "code",
   "execution_count": 30,
   "metadata": {},
   "outputs": [],
   "source": [
    "avgBsmtFinSF1 = pivotDF.select(avg(pivotDF.BsmtFinSF1)).collect()[0][0]\n",
    "avgBsmtFinSF2 = pivotDF.select(avg(pivotDF.BsmtFinSF2)).collect()[0][0]\n",
    "avgBsmtUnfSF = pivotDF.select(avg(pivotDF.BsmtUnfSF)).collect()[0][0]\n",
    "avgTotalBsmtSF= pivotDF.select(avg(pivotDF.TotalBsmtSF)).collect()[0][0]\n",
    "avgBsmtHalfBath = pivotDF.select(avg(pivotDF.BsmtHalfBath)).collect()[0][0]\n",
    "avgBsmtFullBath= pivotDF.select(avg(pivotDF.BsmtFullBath)).collect()[0][0]"
   ]
  },
  {
   "cell_type": "code",
   "execution_count": 31,
   "metadata": {},
   "outputs": [],
   "source": [
    "# riempiamo le feature mancanti con i valori medi e frequenti calcolati precedentemente\n",
    "trainDF = trainDF\\\n",
    "\t.fillna(BsmtExposure_count.index[0], subset='BsmtExposure')\\\n",
    "\t\t.fillna(BsmtFinType2_count.index[0], subset='BsmtFinType2')\n",
    "\n",
    "\n",
    "testDF = testDF\\\n",
    "\t.fillna(BsmtExposure_count.index[0], subset='BsmtExposure')\\\n",
    "\t\t.fillna(BsmtQual_count.index[0], subset='BsmtQual')\\\n",
    "\t\t\t.fillna(BsmtCond_count.index[0], subset='BsmtCond')\\\n",
    "\t\t\t\t.fillna(BsmtFinType2_count.index[0], subset='BsmtFinType2')\\\n",
    "\t\t\t\t\t.fillna(BsmtFinType1_count.index[0], subset='BsmtFinType1')\\\n",
    "\t\t\t\t\t\t.fillna(avgBsmtFinSF1, subset='BsmtFinSF1')\\\n",
    "\t\t\t\t\t\t\t.fillna(avgTotalBsmtSF, subset='TotalBsmtSF')\\\n",
    "\t\t\t\t\t\t\t\t.fillna(avgBsmtFinSF2, subset='BsmtFinSF2')\\\n",
    "\t\t\t\t\t\t\t\t\t.fillna(avgBsmtUnfSF, subset='BsmtUnfSF')\\\n",
    "\t\t\t\t\t\t\t\t\t\t.fillna(avgBsmtHalfBath, subset='BsmtHalfBath')\\\n",
    "\t\t\t\t\t\t\t\t\t\t\t.fillna(avgBsmtFullBath, subset='BsmtFullBath')"
   ]
  },
  {
   "cell_type": "code",
   "execution_count": 32,
   "metadata": {},
   "outputs": [
    {
     "name": "stdout",
     "output_type": "stream",
     "text": [
      "+----------------------------+-----+\n",
      "|TRAIN Features with NA value|Count|\n",
      "+----------------------------+-----+\n",
      "|                  MasVnrType|    8|\n",
      "|                  MasVnrArea|    8|\n",
      "|                  Electrical|    1|\n",
      "+----------------------------+-----+\n",
      "\n",
      "+---------------------------+-----+\n",
      "|TEST Features with NA value|Count|\n",
      "+---------------------------+-----+\n",
      "|                 MasVnrType|   16|\n",
      "|                 MasVnrArea|   15|\n",
      "|                   MSZoning|    4|\n",
      "|                  Utilities|    2|\n",
      "|                 Functional|    2|\n",
      "|                Exterior1st|    1|\n",
      "|                KitchenQual|    1|\n",
      "|                   SaleType|    1|\n",
      "|                Exterior2nd|    1|\n",
      "+---------------------------+-----+\n",
      "\n"
     ]
    }
   ],
   "source": [
    "nullFeaturesTrainDF = spark.createDataFrame(null_value_count(trainDF), ['TRAIN Features with NA value', 'Count']).sort('Count', ascending=False)\n",
    "nullFeaturesTrainDF.show()\n",
    "\n",
    "nullFeaturesTestDF = spark.createDataFrame(null_value_count(testDF), ['TEST Features with NA value', 'Count']).sort('Count', ascending=False)\n",
    "nullFeaturesTestDF.show()"
   ]
  },
  {
   "cell_type": "code",
   "execution_count": 33,
   "metadata": {},
   "outputs": [
    {
     "name": "stdout",
     "output_type": "stream",
     "text": [
      "+----------+----------+\n",
      "|MasVnrType|MasVnrArea|\n",
      "+----------+----------+\n",
      "|      null|      null|\n",
      "|      null|      null|\n",
      "|      null|      null|\n",
      "|      null|      null|\n",
      "|      null|      null|\n",
      "|      null|      null|\n",
      "|      null|      null|\n",
      "|      null|      null|\n",
      "+----------+----------+\n",
      "\n",
      "+----------+----------+\n",
      "|MasVnrType|MasVnrArea|\n",
      "+----------+----------+\n",
      "|      null|      null|\n",
      "|      null|      null|\n",
      "|      null|      null|\n",
      "|      null|      null|\n",
      "|      null|      null|\n",
      "|      null|      null|\n",
      "|      null|      null|\n",
      "|      null|      null|\n",
      "|      null|      null|\n",
      "|      null|      null|\n",
      "|      null|      null|\n",
      "|      null|      null|\n",
      "|      null|       198|\n",
      "|      null|      null|\n",
      "|      null|      null|\n",
      "|      null|      null|\n",
      "+----------+----------+\n",
      "\n"
     ]
    }
   ],
   "source": [
    "#notiamo che nel test set c'è un'incongruenza tra MasVnrArea e MasVnrType. Controlliamo\n",
    "\n",
    "trainDF.select('MasVnrType', 'MasVnrArea' ).where(col('MasVnrType').isNull()== True).show()\n",
    "testDF.select('MasVnrType', 'MasVnrArea' ).where(col('MasVnrType').isNull()== True).show()\n"
   ]
  },
  {
   "cell_type": "code",
   "execution_count": 34,
   "metadata": {},
   "outputs": [
    {
     "data": {
      "image/png": "[encoded data removed]",
      "text/plain": [
       "<Figure size 1224x432 with 1 Axes>"
      ]
     },
     "metadata": {
      "needs_background": "light"
     },
     "output_type": "display_data"
    }
   ],
   "source": [
    "#andremo a riempire le feature mancanti con i valori più frequenti o medi.\n",
    "\n",
    "# vediamo il valore più frequente di BsmtExposure\n",
    "MasVnrType_count = pivotPD['MasVnrType'].value_counts()\n",
    "\n",
    "plt.subplots(figsize=(17, 6))\n",
    "sns.barplot(x=MasVnrType_count.index, y=MasVnrType_count.values, alpha=0.9)\n",
    "plt.title('Frequency Distribution of MasVnrType_count', fontsize=15)\n",
    "plt.ylabel('Number of Occurrences', fontsize=15)\n",
    "plt.xlabel('MasVnrType_count', fontsize=15)\n",
    "plt.xticks(fontsize=15)\n",
    "plt.yticks(fontsize=15)\n",
    "plt.figure(1)\n",
    "\n",
    "plt.show()"
   ]
  },
  {
   "cell_type": "code",
   "execution_count": 35,
   "metadata": {},
   "outputs": [],
   "source": [
    "# Avendo un'area maggiore di 0 vuole dire che esistono opere murarie, inseriamo il secondo valore più frequente dato che il primo è None\n",
    "testDF = testDF\\\n",
    "      .withColumn(\"MasVnrType\", when( (col('MasVnrArea') > 0) & (col('MasVnrType').isNull() == True), MasVnrType_count.index[1]).otherwise(f.col('MasVnrType'))) "
   ]
  },
  {
   "cell_type": "code",
   "execution_count": 36,
   "metadata": {},
   "outputs": [],
   "source": [
    "# riempiamo i restanti valori nulli con None/0\n",
    "\n",
    "trainDF = trainDF\\\n",
    "\t.fillna('None', subset='MasVnrType')\\\n",
    "\t\t.fillna(0, subset='MasVnrArea')\n",
    "\n",
    "testDF = testDF\\\n",
    "\t.fillna('None', subset='MasVnrType')\\\n",
    "\t\t.fillna(0, subset='MasVnrArea')"
   ]
  },
  {
   "cell_type": "code",
   "execution_count": 37,
   "metadata": {},
   "outputs": [
    {
     "name": "stdout",
     "output_type": "stream",
     "text": [
      "+----------------------------+-----+\n",
      "|TRAIN Features with NA value|Count|\n",
      "+----------------------------+-----+\n",
      "|                  Electrical|    1|\n",
      "+----------------------------+-----+\n",
      "\n",
      "+---------------------------+-----+\n",
      "|TEST Features with NA value|Count|\n",
      "+---------------------------+-----+\n",
      "|                   MSZoning|    4|\n",
      "|                 Functional|    2|\n",
      "|                  Utilities|    2|\n",
      "|                Exterior1st|    1|\n",
      "|                   SaleType|    1|\n",
      "|                Exterior2nd|    1|\n",
      "|                KitchenQual|    1|\n",
      "+---------------------------+-----+\n",
      "\n"
     ]
    }
   ],
   "source": [
    "nullFeaturesTrainDF = spark.createDataFrame(null_value_count(trainDF), ['TRAIN Features with NA value', 'Count']).sort('Count', ascending=False)\n",
    "nullFeaturesTrainDF.show()\n",
    "\n",
    "nullFeaturesTestDF = spark.createDataFrame(null_value_count(testDF), ['TEST Features with NA value', 'Count']).sort('Count', ascending=False)\n",
    "nullFeaturesTestDF.show()"
   ]
  },
  {
   "cell_type": "code",
   "execution_count": 38,
   "metadata": {},
   "outputs": [],
   "source": [
    "#riempiamo le restanti feature con i valori più frequenti\n",
    "Electrical_count = pivotPD['Electrical'].value_counts()\n",
    "MSZoning_count = pivotPD['MSZoning'].value_counts()\n",
    "Functional_count = pivotPD['Functional'].value_counts()\n",
    "Utilities_count = pivotPD['Utilities'].value_counts()\n",
    "SaleType_count = pivotPD['SaleType'].value_counts()\n",
    "Exterior1st_count = pivotPD['Exterior1st'].value_counts()\n",
    "Exterior2nd_count = pivotPD['Exterior2nd'].value_counts()"
   ]
  },
  {
   "cell_type": "code",
   "execution_count": 39,
   "metadata": {},
   "outputs": [],
   "source": [
    "trainDF = trainDF.fillna(Electrical_count.index[0], subset='Electrical')\n",
    "\n",
    "testDF = testDF\\\n",
    "\t.fillna(MSZoning_count.index[0], subset='MSZoning')\\\n",
    "\t\t.fillna(Functional_count.index[0], subset='Functional')\\\n",
    "\t\t\t.fillna(Utilities_count.index[0], subset='Utilities')\\\n",
    "\t\t\t\t\t.fillna(SaleType_count.index[0], subset='SaleType')\\\n",
    "\t\t\t\t\t\t.fillna(Exterior1st_count.index[0], subset='Exterior1st')\\\n",
    "\t\t\t\t\t\t\t\t.fillna(Exterior2nd_count.index[0], subset='Exterior2nd')"
   ]
  },
  {
   "cell_type": "code",
   "execution_count": 40,
   "metadata": {},
   "outputs": [
    {
     "name": "stdout",
     "output_type": "stream",
     "text": [
      "+------------+-----------+\n",
      "|KitchenAbvGr|KitchenQual|\n",
      "+------------+-----------+\n",
      "|           1|       null|\n",
      "+------------+-----------+\n",
      "\n"
     ]
    }
   ],
   "source": [
    "# controllo se è presente la cucina\n",
    "testDF.select('KitchenAbvGr', 'KitchenQual' ).where( col('KitchenQual').isNull() == True ).show()"
   ]
  },
  {
   "cell_type": "code",
   "execution_count": 41,
   "metadata": {},
   "outputs": [],
   "source": [
    "# dato che la cucina è presente inseriamo per KitchenQual il valore più frequente\n",
    "KitchenQual_count = pivotPD['KitchenQual'].value_counts()\n",
    "testDF = testDF.fillna(KitchenQual_count.index[0], subset='KitchenQual')"
   ]
  },
  {
   "cell_type": "code",
   "execution_count": 44,
   "metadata": {},
   "outputs": [
    {
     "data": {
      "text/plain": [
       "[]"
      ]
     },
     "execution_count": 44,
     "metadata": {},
     "output_type": "execute_result"
    }
   ],
   "source": [
    "null_value_count(trainDF)\n",
    "null_value_count(testDF)\n"
   ]
  },
  {
   "cell_type": "code",
   "execution_count": 77,
   "metadata": {},
   "outputs": [
    {
     "name": "stdout",
     "output_type": "stream",
     "text": [
      "str_features : ['MSZoning', 'Street', 'LotShape', 'LandContour', 'Utilities', 'LotConfig', 'LandSlope', 'Neighborhood', 'Condition1', 'Condition2', 'BldgType', 'HouseStyle', 'RoofStyle', 'RoofMatl', 'Exterior1st', 'Exterior2nd', 'MasVnrType', 'ExterQual', 'ExterCond', 'Foundation', 'BsmtQual', 'BsmtCond', 'BsmtExposure', 'BsmtFinType1', 'BsmtFinType2', 'Heating', 'HeatingQC', 'CentralAir', 'Electrical', 'KitchenQual', 'Functional', 'FireplaceQu', 'GarageType', 'GarageFinish', 'GarageQual', 'GarageCond', 'PavedDrive', 'SaleType', 'SaleCondition']\n",
      "\n",
      "int_features: ['Id', 'MSSubClass', 'LotFrontage', 'LotArea', 'OverallQual', 'OverallCond', 'YearBuilt', 'YearRemodAdd', 'MasVnrArea', 'BsmtFinSF1', 'BsmtFinSF2', 'BsmtUnfSF', 'TotalBsmtSF', '1stFlrSF', '2ndFlrSF', 'LowQualFinSF', 'GrLivArea', 'BsmtFullBath', 'BsmtHalfBath', 'FullBath', 'HalfBath', 'BedroomAbvGr', 'KitchenAbvGr', 'TotRmsAbvGrd', 'Fireplaces', 'GarageYrBlt', 'GarageCars', 'GarageArea', 'WoodDeckSF', 'OpenPorchSF', 'EnclosedPorch', '3SsnPorch', 'ScreenPorch', 'PoolArea', 'MiscVal', 'MoSold', 'YrSold']\n"
     ]
    }
   ],
   "source": [
    "#dividiamo le features in base al tipo di dato \n",
    "\n",
    "str_features = [] \n",
    "int_features = []\n",
    "\n",
    "for col in  trainDF.dtypes:\n",
    "    if col[1] == 'string':\n",
    "        str_features += [col[0]]\n",
    "    else:\n",
    "        int_features += [col[0]]\n",
    "\n",
    "\n",
    "int_features.remove('SalePrice')\n",
    "print(f'str_features : {str_features}\\n')\n",
    "print(f'int_features: {int_features}')\n"
   ]
  },
  {
   "cell_type": "markdown",
   "metadata": {},
   "source": [
    "# StringIndexer\n",
    "L'attività più comune per le caratteristiche categoriali è l'indicizzazione. L'indicizzazione converte una categoria variabile in una colonna a una numerica che puoi collegare ad algoritmi di apprendimento automatico.\n",
    "\n",
    "Anche se questo è concettualmente semplice, ci sono alcune catture che è importante tenere a mente che Spark può farlo in modo stabile e ripetibile.\n",
    "\n",
    "In generale, consigliamo di reindicizzare ogni variabile categoriale durante la pre-elaborazione solo per amore della coerenza. Questo può essere utile per mantenere i tuoi modelli a lungo termine come i tuoi le pratiche di codifica possono cambiare nel tempo.\n",
    "\n",
    "Strind Indexer\n",
    "Il modo più semplice per indicizzare è tramite StringIndexer, che mappa le stringhe su numeri diversi ID. StringIndexer di Spark crea anche metadati allegati a DataFrame che specificano cosa\n",
    "gli ingressi corrispondono a quali uscite.\n",
    "\n",
    "Questo ci consente in seguito di recuperare gli input dai rispettivi valori di indice."
   ]
  },
  {
   "cell_type": "code",
   "execution_count": 81,
   "metadata": {},
   "outputs": [],
   "source": [
    "#creaimo degli stages da inserire poi direttamente nella pipeline\n",
    "pipeline_stages = []"
   ]
  },
  {
   "cell_type": "code",
   "execution_count": 82,
   "metadata": {},
   "outputs": [],
   "source": [
    "labelDF = trainDF[str_features].unionByName(testDF[str_features])\n",
    "\n",
    "string_indexers = [StringIndexer(inputCol=column, outputCol=column+'_index', handleInvalid='keep') for column in str_features]\n",
    "\n",
    "pipeline_stages.append(string_indexers)\n"
   ]
  },
  {
   "cell_type": "markdown",
   "metadata": {},
   "source": [
    "# Index to String\n",
    "\n",
    "Quando ispezioni i tuoi risultati di machine learning, probabilmente vorrai eseguire nuovamente la mappatura a valori originari.\n",
    "\n",
    "Poiché i modelli di classificazione MLlib effettuano previsioni utilizzando i valori indicizzati,\n",
    "questa conversione è utile per riconvertire le previsioni del modello (indici) nell'originale\n",
    "categorie.\n",
    "\n",
    "Possiamo farlo con IndexToString. Noterai che non dobbiamo inserire il nostro valore alla chiave String; MLlib di Spark mantiene questi metadati per te. Puoi facoltativamente specificare le uscite."
   ]
  },
  {
   "cell_type": "code",
   "execution_count": 83,
   "metadata": {},
   "outputs": [],
   "source": [
    "from pyspark.ml.feature import IndexToString\n",
    "\n",
    "label_reverse = [IndexToString(inputCol=column, outputCol=column+'_reverse') for column in str_features]\n",
    "\n",
    "#non serve dato che devo predire un valore e non una stringa\n",
    "# pipeline_stages.append(label_reverse)\n"
   ]
  },
  {
   "cell_type": "markdown",
   "metadata": {},
   "source": [
    "# VectorAssembler \n",
    "È un trasformatore che combina un determinato elenco di colonne in un'unica colonna vettoriale. È utile per combinare funzionalità grezze e funzionalità generate da diversi trasformatori di funzionalità in un unico vettore di funzionalità, al fine di addestrare modelli ML come la regressione logistica e gli alberi decisionali. VectorAssembler accetta i seguenti tipi di colonne di input: tutti i tipi numerici, il tipo booleano e il tipo vettoriale. In ogni riga, i valori delle colonne di input verranno concatenati in un vettore nell'ordine specificato."
   ]
  },
  {
   "cell_type": "code",
   "execution_count": 84,
   "metadata": {},
   "outputs": [],
   "source": [
    "assembler = VectorAssembler().setInputCols(str_features + int_features).setOutputCol(\"Features\").setHandleInvalid(\"keep\")\n",
    "\n",
    "pipeline_stages.append(assembler)"
   ]
  },
  {
   "cell_type": "code",
   "execution_count": null,
   "metadata": {},
   "outputs": [],
   "source": []
  },
  {
   "cell_type": "code",
   "execution_count": null,
   "metadata": {},
   "outputs": [],
   "source": [
    "plt.figure(figsize=(15, 12), dpi = 600) \n",
    "corr =labelDF.toPandas().corr()\n",
    "sns.heatmap(corr, annot=True, annot_kws={\"fontsize\":4}, square=True).set_title('Features Correlating', fontdict={'fontsize':16}, pad=16);"
   ]
  },
  {
   "cell_type": "code",
   "execution_count": 85,
   "metadata": {},
   "outputs": [
    {
     "ename": "KeyError",
     "evalue": "\"None of [Index(['SalePrice'], dtype='object')] are in the [columns]\"",
     "output_type": "error",
     "traceback": [
      "\u001b[1;31m---------------------------------------------------------------------------\u001b[0m",
      "\u001b[1;31mKeyError\u001b[0m                                  Traceback (most recent call last)",
      "\u001b[1;32m<ipython-input-85-c730c68dcaad>\u001b[0m in \u001b[0;36m<module>\u001b[1;34m\u001b[0m\n\u001b[0;32m      1\u001b[0m \u001b[1;31m# vediamo la correlazione solo con il prezzo di vendita\u001b[0m\u001b[1;33m\u001b[0m\u001b[1;33m\u001b[0m\u001b[1;33m\u001b[0m\u001b[0m\n\u001b[0;32m      2\u001b[0m \u001b[1;33m\u001b[0m\u001b[0m\n\u001b[1;32m----> 3\u001b[1;33m \u001b[0mcorrSP\u001b[0m \u001b[1;33m=\u001b[0m \u001b[0mlabelDF\u001b[0m\u001b[1;33m.\u001b[0m\u001b[0mtoPandas\u001b[0m\u001b[1;33m(\u001b[0m\u001b[1;33m)\u001b[0m\u001b[1;33m.\u001b[0m\u001b[0mcorr\u001b[0m\u001b[1;33m(\u001b[0m\u001b[1;33m)\u001b[0m\u001b[1;33m[\u001b[0m\u001b[1;33m[\u001b[0m\u001b[1;34m'SalePrice'\u001b[0m\u001b[1;33m]\u001b[0m\u001b[1;33m]\u001b[0m\u001b[1;33m.\u001b[0m\u001b[0msort_values\u001b[0m\u001b[1;33m(\u001b[0m\u001b[0mby\u001b[0m\u001b[1;33m=\u001b[0m\u001b[1;34m'SalePrice'\u001b[0m\u001b[1;33m,\u001b[0m \u001b[0mascending\u001b[0m\u001b[1;33m=\u001b[0m\u001b[1;32mFalse\u001b[0m\u001b[1;33m)\u001b[0m\u001b[1;33m\u001b[0m\u001b[1;33m\u001b[0m\u001b[0m\n\u001b[0m\u001b[0;32m      4\u001b[0m \u001b[1;33m\u001b[0m\u001b[0m\n\u001b[0;32m      5\u001b[0m \u001b[0mplt\u001b[0m\u001b[1;33m.\u001b[0m\u001b[0mfigure\u001b[0m\u001b[1;33m(\u001b[0m\u001b[0mfigsize\u001b[0m\u001b[1;33m=\u001b[0m\u001b[1;33m(\u001b[0m\u001b[1;36m2\u001b[0m\u001b[1;33m,\u001b[0m \u001b[1;36m4\u001b[0m\u001b[1;33m)\u001b[0m\u001b[1;33m,\u001b[0m \u001b[0mdpi\u001b[0m \u001b[1;33m=\u001b[0m \u001b[1;36m200\u001b[0m\u001b[1;33m)\u001b[0m\u001b[1;33m\u001b[0m\u001b[1;33m\u001b[0m\u001b[0m\n",
      "\u001b[1;32mc:\\ProgramData\\Anaconda3\\lib\\site-packages\\pandas\\core\\frame.py\u001b[0m in \u001b[0;36m__getitem__\u001b[1;34m(self, key)\u001b[0m\n\u001b[0;32m   2804\u001b[0m             \u001b[1;32mif\u001b[0m \u001b[0mis_iterator\u001b[0m\u001b[1;33m(\u001b[0m\u001b[0mkey\u001b[0m\u001b[1;33m)\u001b[0m\u001b[1;33m:\u001b[0m\u001b[1;33m\u001b[0m\u001b[1;33m\u001b[0m\u001b[0m\n\u001b[0;32m   2805\u001b[0m                 \u001b[0mkey\u001b[0m \u001b[1;33m=\u001b[0m \u001b[0mlist\u001b[0m\u001b[1;33m(\u001b[0m\u001b[0mkey\u001b[0m\u001b[1;33m)\u001b[0m\u001b[1;33m\u001b[0m\u001b[1;33m\u001b[0m\u001b[0m\n\u001b[1;32m-> 2806\u001b[1;33m             \u001b[0mindexer\u001b[0m \u001b[1;33m=\u001b[0m \u001b[0mself\u001b[0m\u001b[1;33m.\u001b[0m\u001b[0mloc\u001b[0m\u001b[1;33m.\u001b[0m\u001b[0m_get_listlike_indexer\u001b[0m\u001b[1;33m(\u001b[0m\u001b[0mkey\u001b[0m\u001b[1;33m,\u001b[0m \u001b[0maxis\u001b[0m\u001b[1;33m=\u001b[0m\u001b[1;36m1\u001b[0m\u001b[1;33m,\u001b[0m \u001b[0mraise_missing\u001b[0m\u001b[1;33m=\u001b[0m\u001b[1;32mTrue\u001b[0m\u001b[1;33m)\u001b[0m\u001b[1;33m[\u001b[0m\u001b[1;36m1\u001b[0m\u001b[1;33m]\u001b[0m\u001b[1;33m\u001b[0m\u001b[1;33m\u001b[0m\u001b[0m\n\u001b[0m\u001b[0;32m   2807\u001b[0m \u001b[1;33m\u001b[0m\u001b[0m\n\u001b[0;32m   2808\u001b[0m         \u001b[1;31m# take() does not accept boolean indexers\u001b[0m\u001b[1;33m\u001b[0m\u001b[1;33m\u001b[0m\u001b[1;33m\u001b[0m\u001b[0m\n",
      "\u001b[1;32mc:\\ProgramData\\Anaconda3\\lib\\site-packages\\pandas\\core\\indexing.py\u001b[0m in \u001b[0;36m_get_listlike_indexer\u001b[1;34m(self, key, axis, raise_missing)\u001b[0m\n\u001b[0;32m   1550\u001b[0m             \u001b[0mkeyarr\u001b[0m\u001b[1;33m,\u001b[0m \u001b[0mindexer\u001b[0m\u001b[1;33m,\u001b[0m \u001b[0mnew_indexer\u001b[0m \u001b[1;33m=\u001b[0m \u001b[0max\u001b[0m\u001b[1;33m.\u001b[0m\u001b[0m_reindex_non_unique\u001b[0m\u001b[1;33m(\u001b[0m\u001b[0mkeyarr\u001b[0m\u001b[1;33m)\u001b[0m\u001b[1;33m\u001b[0m\u001b[1;33m\u001b[0m\u001b[0m\n\u001b[0;32m   1551\u001b[0m \u001b[1;33m\u001b[0m\u001b[0m\n\u001b[1;32m-> 1552\u001b[1;33m         self._validate_read_indexer(\n\u001b[0m\u001b[0;32m   1553\u001b[0m             \u001b[0mkeyarr\u001b[0m\u001b[1;33m,\u001b[0m \u001b[0mindexer\u001b[0m\u001b[1;33m,\u001b[0m \u001b[0mo\u001b[0m\u001b[1;33m.\u001b[0m\u001b[0m_get_axis_number\u001b[0m\u001b[1;33m(\u001b[0m\u001b[0maxis\u001b[0m\u001b[1;33m)\u001b[0m\u001b[1;33m,\u001b[0m \u001b[0mraise_missing\u001b[0m\u001b[1;33m=\u001b[0m\u001b[0mraise_missing\u001b[0m\u001b[1;33m\u001b[0m\u001b[1;33m\u001b[0m\u001b[0m\n\u001b[0;32m   1554\u001b[0m         )\n",
      "\u001b[1;32mc:\\ProgramData\\Anaconda3\\lib\\site-packages\\pandas\\core\\indexing.py\u001b[0m in \u001b[0;36m_validate_read_indexer\u001b[1;34m(self, key, indexer, axis, raise_missing)\u001b[0m\n\u001b[0;32m   1638\u001b[0m             \u001b[1;32mif\u001b[0m \u001b[0mmissing\u001b[0m \u001b[1;33m==\u001b[0m \u001b[0mlen\u001b[0m\u001b[1;33m(\u001b[0m\u001b[0mindexer\u001b[0m\u001b[1;33m)\u001b[0m\u001b[1;33m:\u001b[0m\u001b[1;33m\u001b[0m\u001b[1;33m\u001b[0m\u001b[0m\n\u001b[0;32m   1639\u001b[0m                 \u001b[0maxis_name\u001b[0m \u001b[1;33m=\u001b[0m \u001b[0mself\u001b[0m\u001b[1;33m.\u001b[0m\u001b[0mobj\u001b[0m\u001b[1;33m.\u001b[0m\u001b[0m_get_axis_name\u001b[0m\u001b[1;33m(\u001b[0m\u001b[0maxis\u001b[0m\u001b[1;33m)\u001b[0m\u001b[1;33m\u001b[0m\u001b[1;33m\u001b[0m\u001b[0m\n\u001b[1;32m-> 1640\u001b[1;33m                 \u001b[1;32mraise\u001b[0m \u001b[0mKeyError\u001b[0m\u001b[1;33m(\u001b[0m\u001b[1;34mf\"None of [{key}] are in the [{axis_name}]\"\u001b[0m\u001b[1;33m)\u001b[0m\u001b[1;33m\u001b[0m\u001b[1;33m\u001b[0m\u001b[0m\n\u001b[0m\u001b[0;32m   1641\u001b[0m \u001b[1;33m\u001b[0m\u001b[0m\n\u001b[0;32m   1642\u001b[0m             \u001b[1;31m# We (temporarily) allow for some missing keys with .loc, except in\u001b[0m\u001b[1;33m\u001b[0m\u001b[1;33m\u001b[0m\u001b[1;33m\u001b[0m\u001b[0m\n",
      "\u001b[1;31mKeyError\u001b[0m: \"None of [Index(['SalePrice'], dtype='object')] are in the [columns]\""
     ]
    }
   ],
   "source": [
    "# vediamo la correlazione solo con il prezzo di vendita\n",
    "\n",
    "corrSP = labelDF.toPandas().corr()[['SalePrice']].sort_values(by='SalePrice', ascending=False)\n",
    "\n",
    "plt.figure(figsize=(2, 4), dpi = 200) \n",
    "sns.set(font_scale = 0.4)\n",
    "\n",
    "sns.heatmap(corrSP, annot=True, annot_kws={\"fontsize\":4},).set_title('Features Correlating with Sales Price', fontdict={'fontsize':10}, pad=16);"
   ]
  },
  {
   "cell_type": "code",
   "execution_count": null,
   "metadata": {},
   "outputs": [],
   "source": [
    "# prendiamo le feature che hanno un valore di correlazione >= 0.5 ed eliminiamo la colonna SalePrice che avrà valore 1 \n",
    "featuresSelect = corrSP['SalePrice'][ corrSP['SalePrice'] >= 0.5].drop('SalePrice')\n",
    "\n",
    "print(featuresSelect)"
   ]
  }
 ],
 "metadata": {
  "interpreter": {
   "hash": "ad2bdc8ecc057115af97d19610ffacc2b4e99fae6737bb82f5d7fb13d2f2c186"
  },
  "kernelspec": {
   "display_name": "Python 3.8.3 ('base')",
   "language": "python",
   "name": "python3"
  },
  "language_info": {
   "codemirror_mode": {
    "name": "ipython",
    "version": 3
   },
   "file_extension": ".py",
   "mimetype": "text/x-python",
   "name": "python",
   "nbconvert_exporter": "python",
   "pygments_lexer": "ipython3",
   "version": "3.8.3"
  },
  "orig_nbformat": 4
 },
 "nbformat": 4,
 "nbformat_minor": 2
}
