{
 "cells": [
  {
   "cell_type": "code",
   "execution_count": 1,
   "metadata": {},
   "outputs": [],
   "source": [
    "# inizializziamo la SparkSession e importiamo le librerie\n",
    "import findspark\n",
    "import seaborn as sns\n",
    "import matplotlib.pyplot as plt\n",
    "\n",
    "\n",
    "location = findspark.find()\n",
    "findspark.init(location)\n",
    "\n",
    "from pyspark.sql import SparkSession\n",
    "from pyspark.sql.functions import *\n",
    "\n",
    "spark = SparkSession \\\n",
    "    .builder \\\n",
    "    .appName(\"Houses Price\") \\\n",
    "    .getOrCreate()"
   ]
  },
  {
   "cell_type": "code",
   "execution_count": 2,
   "metadata": {},
   "outputs": [],
   "source": [
    "# Carichiamo il data set\n",
    "trainDF = spark.read.csv('hdfs://localhost:9000/user/vito/input/train.csv', header = 'True', inferSchema='True', nullValue='NA')\n",
    "testDF = spark.read.csv('hdfs://localhost:9000/user/vito/input/test.csv', header = 'True', inferSchema='True', nullValue='NA')"
   ]
  },
  {
   "cell_type": "code",
   "execution_count": 3,
   "metadata": {},
   "outputs": [
    {
     "name": "stdout",
     "output_type": "stream",
     "text": [
      "root\n",
      " |-- Id: integer (nullable = true)\n",
      " |-- MSSubClass: integer (nullable = true)\n",
      " |-- MSZoning: string (nullable = true)\n",
      " |-- LotFrontage: integer (nullable = true)\n",
      " |-- LotArea: integer (nullable = true)\n",
      " |-- Street: string (nullable = true)\n",
      " |-- Alley: string (nullable = true)\n",
      " |-- LotShape: string (nullable = true)\n",
      " |-- LandContour: string (nullable = true)\n",
      " |-- Utilities: string (nullable = true)\n",
      " |-- LotConfig: string (nullable = true)\n",
      " |-- LandSlope: string (nullable = true)\n",
      " |-- Neighborhood: string (nullable = true)\n",
      " |-- Condition1: string (nullable = true)\n",
      " |-- Condition2: string (nullable = true)\n",
      " |-- BldgType: string (nullable = true)\n",
      " |-- HouseStyle: string (nullable = true)\n",
      " |-- OverallQual: integer (nullable = true)\n",
      " |-- OverallCond: integer (nullable = true)\n",
      " |-- YearBuilt: integer (nullable = true)\n",
      " |-- YearRemodAdd: integer (nullable = true)\n",
      " |-- RoofStyle: string (nullable = true)\n",
      " |-- RoofMatl: string (nullable = true)\n",
      " |-- Exterior1st: string (nullable = true)\n",
      " |-- Exterior2nd: string (nullable = true)\n",
      " |-- MasVnrType: string (nullable = true)\n",
      " |-- MasVnrArea: integer (nullable = true)\n",
      " |-- ExterQual: string (nullable = true)\n",
      " |-- ExterCond: string (nullable = true)\n",
      " |-- Foundation: string (nullable = true)\n",
      " |-- BsmtQual: string (nullable = true)\n",
      " |-- BsmtCond: string (nullable = true)\n",
      " |-- BsmtExposure: string (nullable = true)\n",
      " |-- BsmtFinType1: string (nullable = true)\n",
      " |-- BsmtFinSF1: integer (nullable = true)\n",
      " |-- BsmtFinType2: string (nullable = true)\n",
      " |-- BsmtFinSF2: integer (nullable = true)\n",
      " |-- BsmtUnfSF: integer (nullable = true)\n",
      " |-- TotalBsmtSF: integer (nullable = true)\n",
      " |-- Heating: string (nullable = true)\n",
      " |-- HeatingQC: string (nullable = true)\n",
      " |-- CentralAir: string (nullable = true)\n",
      " |-- Electrical: string (nullable = true)\n",
      " |-- 1stFlrSF: integer (nullable = true)\n",
      " |-- 2ndFlrSF: integer (nullable = true)\n",
      " |-- LowQualFinSF: integer (nullable = true)\n",
      " |-- GrLivArea: integer (nullable = true)\n",
      " |-- BsmtFullBath: integer (nullable = true)\n",
      " |-- BsmtHalfBath: integer (nullable = true)\n",
      " |-- FullBath: integer (nullable = true)\n",
      " |-- HalfBath: integer (nullable = true)\n",
      " |-- BedroomAbvGr: integer (nullable = true)\n",
      " |-- KitchenAbvGr: integer (nullable = true)\n",
      " |-- KitchenQual: string (nullable = true)\n",
      " |-- TotRmsAbvGrd: integer (nullable = true)\n",
      " |-- Functional: string (nullable = true)\n",
      " |-- Fireplaces: integer (nullable = true)\n",
      " |-- FireplaceQu: string (nullable = true)\n",
      " |-- GarageType: string (nullable = true)\n",
      " |-- GarageYrBlt: integer (nullable = true)\n",
      " |-- GarageFinish: string (nullable = true)\n",
      " |-- GarageCars: integer (nullable = true)\n",
      " |-- GarageArea: integer (nullable = true)\n",
      " |-- GarageQual: string (nullable = true)\n",
      " |-- GarageCond: string (nullable = true)\n",
      " |-- PavedDrive: string (nullable = true)\n",
      " |-- WoodDeckSF: integer (nullable = true)\n",
      " |-- OpenPorchSF: integer (nullable = true)\n",
      " |-- EnclosedPorch: integer (nullable = true)\n",
      " |-- 3SsnPorch: integer (nullable = true)\n",
      " |-- ScreenPorch: integer (nullable = true)\n",
      " |-- PoolArea: integer (nullable = true)\n",
      " |-- PoolQC: string (nullable = true)\n",
      " |-- Fence: string (nullable = true)\n",
      " |-- MiscFeature: string (nullable = true)\n",
      " |-- MiscVal: integer (nullable = true)\n",
      " |-- MoSold: integer (nullable = true)\n",
      " |-- YrSold: integer (nullable = true)\n",
      " |-- SaleType: string (nullable = true)\n",
      " |-- SaleCondition: string (nullable = true)\n",
      " |-- SalePrice: integer (nullable = true)\n",
      "\n"
     ]
    }
   ],
   "source": [
    "trainDF.printSchema()"
   ]
  },
  {
   "cell_type": "code",
   "execution_count": 4,
   "metadata": {},
   "outputs": [],
   "source": [
    "# creo un UDF per contare il numero di elementi nulli all'interno del dataframe divisi per colonna\n",
    "\n",
    "from pyspark.sql.functions import col\n",
    "\n",
    "def null_value_count(df):\n",
    "  null_columns_counts = []\n",
    "  for k in df.columns:\n",
    "    nullRows = df.where(col(k).isNull()).count()\n",
    "    if(nullRows > 0):\n",
    "      temp = k,nullRows\n",
    "      null_columns_counts.append(temp)\n",
    "  return(null_columns_counts)"
   ]
  },
  {
   "cell_type": "code",
   "execution_count": 9,
   "metadata": {},
   "outputs": [
    {
     "name": "stdout",
     "output_type": "stream",
     "text": [
      "+----------------------------+-----+\n",
      "|TRAIN Features with NA value|Count|\n",
      "+----------------------------+-----+\n",
      "|                      PoolQC| 1453|\n",
      "|                 MiscFeature| 1406|\n",
      "|                       Alley| 1369|\n",
      "|                       Fence| 1179|\n",
      "|                 FireplaceQu|  690|\n",
      "|                 LotFrontage|  259|\n",
      "|                 GarageYrBlt|   81|\n",
      "|                  GarageType|   81|\n",
      "|                GarageFinish|   81|\n",
      "|                  GarageQual|   81|\n",
      "|                  GarageCond|   81|\n",
      "|                BsmtFinType2|   38|\n",
      "|                BsmtExposure|   38|\n",
      "|                    BsmtCond|   37|\n",
      "|                BsmtFinType1|   37|\n",
      "|                    BsmtQual|   37|\n",
      "|                  MasVnrType|    8|\n",
      "|                  MasVnrArea|    8|\n",
      "|                  Electrical|    1|\n",
      "+----------------------------+-----+\n",
      "\n"
     ]
    }
   ],
   "source": [
    "nullFeaturesTrainDF = spark.createDataFrame(null_value_count(trainDF), ['TRAIN Features with NA value', 'Count']).sort('Count', ascending=False)\n",
    "nullFeaturesTrainDF.show()"
   ]
  },
  {
   "cell_type": "code",
   "execution_count": 10,
   "metadata": {},
   "outputs": [
    {
     "name": "stdout",
     "output_type": "stream",
     "text": [
      "+----------------------------+-----+------------------+\n",
      "|TRAIN Features with NA value|Count|     Missing Ratio|\n",
      "+----------------------------+-----+------------------+\n",
      "|                      PoolQC| 1453| 99.52054794520548|\n",
      "|                 MiscFeature| 1406| 96.30136986301369|\n",
      "|                       Alley| 1369| 93.76712328767123|\n",
      "|                       Fence| 1179| 80.75342465753424|\n",
      "|                 FireplaceQu|  690| 47.26027397260274|\n",
      "|                 LotFrontage|  259| 17.73972602739726|\n",
      "|                 GarageYrBlt|   81|5.5479452054794525|\n",
      "|                GarageFinish|   81|5.5479452054794525|\n",
      "|                  GarageQual|   81|5.5479452054794525|\n",
      "|                  GarageType|   81|5.5479452054794525|\n",
      "|                  GarageCond|   81|5.5479452054794525|\n",
      "|                BsmtFinType2|   38|2.6027397260273974|\n",
      "|                BsmtExposure|   38|2.6027397260273974|\n",
      "|                    BsmtQual|   37|2.5342465753424657|\n",
      "|                BsmtFinType1|   37|2.5342465753424657|\n",
      "|                    BsmtCond|   37|2.5342465753424657|\n",
      "|                  MasVnrArea|    8| 0.547945205479452|\n",
      "|                  MasVnrType|    8| 0.547945205479452|\n",
      "|                  Electrical|    1|0.0684931506849315|\n",
      "+----------------------------+-----+------------------+\n",
      "\n"
     ]
    }
   ],
   "source": [
    "# calcolo la percentuale di dati mancanti\n",
    "\n",
    "nullFeaturesTrainDF = nullFeaturesTrainDF.withColumn( \"Missing Ratio\",  col(\"Count\") / trainDF.count() * 100)\n",
    "nullFeaturesTrainDF.show()"
   ]
  },
  {
   "cell_type": "code",
   "execution_count": 12,
   "metadata": {},
   "outputs": [
    {
     "data": {
      "text/plain": [
       "Text(0.5, 1.0, 'Percentuale di valori mancanti per ogni feature')"
      ]
     },
     "execution_count": 12,
     "metadata": {},
     "output_type": "execute_result"
    },
    {
     "data": {
      "image/png": "[encoded data removed]",
      "text/plain": [
       "<Figure size 1080x432 with 1 Axes>"
      ]
     },
     "metadata": {
      "needs_background": "light"
     },
     "output_type": "display_data"
    }
   ],
   "source": [
    "# facciamo un grafico per capire meglio\n",
    "df_TrainPD = nullFeaturesTrainDF.toPandas()\n",
    "\n",
    "plt.subplots(figsize=(15, 6))\n",
    "plt.xticks(rotation='90')\n",
    "sns.barplot(x=df_TrainPD['TRAIN Features with NA value'], y=df_TrainPD['Missing Ratio']) \n",
    "plt.xlabel('Features')\n",
    "plt.ylabel('Percentuale di valori mancanti')\n",
    "plt.title('Percentuale di valori mancanti per ogni feature')"
   ]
  },
  {
   "cell_type": "code",
   "execution_count": 15,
   "metadata": {},
   "outputs": [
    {
     "name": "stdout",
     "output_type": "stream",
     "text": [
      "Lista delle features da cancellare:\n",
      "0         PoolQC\n",
      "1    MiscFeature\n",
      "2          Alley\n",
      "3          Fence\n",
      "Name: TRAIN Features with NA value, dtype: object\n"
     ]
    }
   ],
   "source": [
    "# cancelliamo le features che hanno una percentuale di valori nulli sopra 80%\n",
    "dropFeatures = df_TrainPD['TRAIN Features with NA value'][ df_TrainPD['Missing Ratio'] > 80 ] \n",
    "print(f'Lista delle features da cancellare:\\n{dropFeatures}')\n",
    "\n",
    "trainDF = trainDF.drop(*dropFeatures)"
   ]
  },
  {
   "cell_type": "code",
   "execution_count": 16,
   "metadata": {},
   "outputs": [],
   "source": [
    "#cancelliamo le feature droppate anche nel test set\n",
    "train_cols = list(trainDF.columns)\n",
    "train_cols.remove('SalePrice')\n",
    "\n",
    "testDF = testDF[train_cols]"
   ]
  },
  {
   "cell_type": "code",
   "execution_count": 18,
   "metadata": {},
   "outputs": [
    {
     "name": "stdout",
     "output_type": "stream",
     "text": [
      "+---------------------------+-----+\n",
      "|TEST Features with NA value|Count|\n",
      "+---------------------------+-----+\n",
      "|                FireplaceQu|  730|\n",
      "|                LotFrontage|  227|\n",
      "|                 GarageQual|   78|\n",
      "|                 GarageCond|   78|\n",
      "|               GarageFinish|   78|\n",
      "|                GarageYrBlt|   78|\n",
      "|                 GarageType|   76|\n",
      "|                   BsmtCond|   45|\n",
      "|               BsmtExposure|   44|\n",
      "|                   BsmtQual|   44|\n",
      "|               BsmtFinType1|   42|\n",
      "|               BsmtFinType2|   42|\n",
      "|                 MasVnrType|   16|\n",
      "|                 MasVnrArea|   15|\n",
      "|                   MSZoning|    4|\n",
      "|               BsmtFullBath|    2|\n",
      "|               BsmtHalfBath|    2|\n",
      "|                  Utilities|    2|\n",
      "|                 Functional|    2|\n",
      "|                Exterior1st|    1|\n",
      "+---------------------------+-----+\n",
      "only showing top 20 rows\n",
      "\n"
     ]
    }
   ],
   "source": [
    "# controlliamo le feature mancanti anche nel test set\n",
    "nullFeaturesTestDF = spark.createDataFrame(null_value_count(testDF), ['TEST Features with NA value', 'Count']).sort('Count', ascending=False)\n",
    "nullFeaturesTestDF.show()"
   ]
  },
  {
   "cell_type": "code",
   "execution_count": 19,
   "metadata": {},
   "outputs": [
    {
     "name": "stdout",
     "output_type": "stream",
     "text": [
      "+----------------------------+-----+\n",
      "|TRAIN Features with NA value|Count|\n",
      "+----------------------------+-----+\n",
      "|                 LotFrontage|   90|\n",
      "|                  GarageQual|   72|\n",
      "|                  GarageCond|   72|\n",
      "|                GarageFinish|   72|\n",
      "|                  GarageType|   72|\n",
      "|                 GarageYrBlt|   72|\n",
      "|                BsmtExposure|   28|\n",
      "|                BsmtFinType2|   28|\n",
      "|                BsmtFinType1|   28|\n",
      "|                    BsmtQual|   28|\n",
      "|                    BsmtCond|   28|\n",
      "|                  MasVnrType|    4|\n",
      "|                  MasVnrArea|    4|\n",
      "|                  Electrical|    1|\n",
      "+----------------------------+-----+\n",
      "\n"
     ]
    }
   ],
   "source": [
    "# settiamo la feature FireplaceQu = 'None' in tutte le righe che hanno Fireplaces = 0\n",
    "\n",
    "trainDF = trainDF.where( ( col('FireplaceQu').isNull() == True) & ( col('Fireplaces') == 0 ) ).fillna('None', subset=['FireplaceQu'])\n",
    "\n",
    "nullFeaturesTrainDF = spark.createDataFrame(null_value_count(trainDF), ['TRAIN Features with NA value', 'Count']).sort('Count', ascending=False)\n",
    "nullFeaturesTrainDF.show()"
   ]
  },
  {
   "cell_type": "code",
   "execution_count": 20,
   "metadata": {},
   "outputs": [
    {
     "name": "stdout",
     "output_type": "stream",
     "text": [
      "+---------------------------+-----+\n",
      "|TEST Features with NA value|Count|\n",
      "+---------------------------+-----+\n",
      "|                LotFrontage|   86|\n",
      "|                GarageYrBlt|   72|\n",
      "|                 GarageQual|   72|\n",
      "|               GarageFinish|   72|\n",
      "|                 GarageCond|   72|\n",
      "|                 GarageType|   70|\n",
      "|                   BsmtQual|   34|\n",
      "|               BsmtExposure|   33|\n",
      "|                   BsmtCond|   32|\n",
      "|               BsmtFinType1|   32|\n",
      "|               BsmtFinType2|   32|\n",
      "|                 MasVnrType|    6|\n",
      "|                 MasVnrArea|    5|\n",
      "|                   MSZoning|    4|\n",
      "|                 Functional|    2|\n",
      "|                KitchenQual|    1|\n",
      "|                 GarageCars|    1|\n",
      "|               BsmtHalfBath|    1|\n",
      "|                 GarageArea|    1|\n",
      "|                 BsmtFinSF1|    1|\n",
      "+---------------------------+-----+\n",
      "only showing top 20 rows\n",
      "\n"
     ]
    }
   ],
   "source": [
    "# ripetiamo l'operazione anche per il test set\n",
    "\n",
    "testDF = testDF.where( ( col('FireplaceQu').isNull() == True) & ( col('Fireplaces') == 0 ) ).fillna('None', subset=['FireplaceQu'])\n",
    "\n",
    "nullFeaturesTestDF = spark.createDataFrame(null_value_count(testDF), ['TEST Features with NA value', 'Count']).sort('Count', ascending=False)\n",
    "nullFeaturesTestDF.show()"
   ]
  },
  {
   "cell_type": "code",
   "execution_count": null,
   "metadata": {},
   "outputs": [],
   "source": [
    "# Notiamo che i valori mancanti nelle features GarageType, GarageYrBlt, GarageQual, GarageFinish, GarageCond sono uguali.\n",
    "# Controlliamo quanti garage mancano\n",
    "\n",
    "\n",
    "features = ['GarageYrBlt', 'GarageType', 'GarageFinish', 'GarageQual', 'GarageCond', 'GarageArea', 'GarageCars']\n",
    "\n",
    "print(f\"Numero di righe che hanno GarageArea a 0: {trainDF.filter( trainDF['GarageArea'] == 0 ).count()}\")\n",
    "print(f\"Numero di righe che hanno GarageCars a 0: {trainDF.filter( trainDF['GarageCars'] == 0 ).count()}\")"
   ]
  },
  {
   "cell_type": "code",
   "execution_count": null,
   "metadata": {},
   "outputs": [],
   "source": [
    "testDF.select(\"GarageType\").distinct().show()\n",
    "testDF.select(\"GarageYrBlt\").distinct().show()\n",
    "testDF.select(\"GarageFinish\").distinct().show()\n",
    "testDF.select(\"GarageQual\").distinct().show()\n",
    "testDF.select(\"GarageCond\").distinct().show()\n"
   ]
  },
  {
   "cell_type": "code",
   "execution_count": null,
   "metadata": {},
   "outputs": [],
   "source": [
    "plt.figure(figsize=(15, 12), dpi = 600) \n",
    "corr = df.corr()\n",
    "sns.heatmap(corr, annot=True, annot_kws={\"fontsize\":4}, square=True).set_title('Features Correlating', fontdict={'fontsize':16}, pad=16);"
   ]
  },
  {
   "cell_type": "code",
   "execution_count": null,
   "metadata": {},
   "outputs": [],
   "source": [
    "# vediamo la correlazione solo con il prezzo di vendita\n",
    "\n",
    "corrSP = df.corr()[['SalePrice']].sort_values(by='SalePrice', ascending=False)\n",
    "\n",
    "plt.figure(figsize=(2, 4), dpi = 200) \n",
    "sns.set(font_scale = 0.4)\n",
    "\n",
    "sns.heatmap(corrSP, annot=True, annot_kws={\"fontsize\":4},).set_title('Features Correlating with Sales Price', fontdict={'fontsize':10}, pad=16);"
   ]
  },
  {
   "cell_type": "code",
   "execution_count": null,
   "metadata": {},
   "outputs": [],
   "source": [
    "# prendiamo le feature che hanno un valore di correlazione >= 0.5 ed eliminiamo la colonna SalePrice che avrà valore 1 \n",
    "featuresSelect = corrSP['SalePrice'][ corrSP['SalePrice'] >= 0.5].drop('SalePrice')\n",
    "\n",
    "print(featuresSelect)"
   ]
  }
 ],
 "metadata": {
  "interpreter": {
   "hash": "ad2bdc8ecc057115af97d19610ffacc2b4e99fae6737bb82f5d7fb13d2f2c186"
  },
  "kernelspec": {
   "display_name": "Python 3.8.3 ('base')",
   "language": "python",
   "name": "python3"
  },
  "language_info": {
   "codemirror_mode": {
    "name": "ipython",
    "version": 3
   },
   "file_extension": ".py",
   "mimetype": "text/x-python",
   "name": "python",
   "nbconvert_exporter": "python",
   "pygments_lexer": "ipython3",
   "version": "3.8.3"
  },
  "orig_nbformat": 4
 },
 "nbformat": 4,
 "nbformat_minor": 2
}
